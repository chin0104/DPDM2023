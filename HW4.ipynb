{
  "nbformat": 4,
  "nbformat_minor": 0,
  "metadata": {
    "colab": {
      "provenance": [],
      "authorship_tag": "ABX9TyO3cPKEWKwT8q0sYnqAzGeO",
      "include_colab_link": true
    },
    "kernelspec": {
      "name": "python3",
      "display_name": "Python 3"
    },
    "language_info": {
      "name": "python"
    }
  },
  "cells": [
    {
      "cell_type": "markdown",
      "metadata": {
        "id": "view-in-github",
        "colab_type": "text"
      },
      "source": [
        "<a href=\"https://colab.research.google.com/github/chin0104/DPDM2023/blob/main/HW4.ipynb\" target=\"_parent\"><img src=\"https://colab.research.google.com/assets/colab-badge.svg\" alt=\"Open In Colab\"/></a>"
      ]
    },
    {
      "cell_type": "code",
      "execution_count": 2,
      "metadata": {
        "id": "zlBoUxop0gai"
      },
      "outputs": [],
      "source": [
        "import pandas as pd\n",
        "from matplotlib import pyplot as plt\n",
        "import numpy as np"
      ]
    },
    {
      "cell_type": "code",
      "source": [
        "from sklearn import datasets #import the SKlearn package to load the example dataset\n",
        "iris = datasets.load_iris() #load iris dataset"
      ],
      "metadata": {
        "id": "mLCh_ZoZ0ps1"
      },
      "execution_count": 3,
      "outputs": []
    },
    {
      "cell_type": "code",
      "source": [
        "test_data_0 = iris['data'][:5,:]\n",
        "test_data_1 = iris['data'][50:55,:]\n",
        "test_data_2 = iris['data'][100:105,:]\n",
        "\n",
        "train_data_0 = iris['data'][5:50,:]\n",
        "train_data_1 = iris['data'][55:100,:]\n",
        "train_data_2 = iris['data'][105:,:]\n",
        "\n",
        "test_label_0 = iris['target'][:5]\n",
        "test_label_1 = iris['target'][50:55]\n",
        "test_label_2 = iris['target'][100:105]\n",
        "\n",
        "train_label_0 = iris['target'][5:50]\n",
        "train_label_1 = iris['target'][55:100]\n",
        "train_label_2 = iris['target'][105:]\n",
        "\n",
        "test_data = [test_data_0, test_data_1, test_data_2]\n",
        "test_labels = [test_label_0, test_label_1, test_label_2]\n",
        "train_data = [train_data_0, train_data_1, train_data_2]\n",
        "train_labels = [train_label_0, train_label_1, train_label_2]"
      ],
      "metadata": {
        "id": "eQ6zPwen0qU4"
      },
      "execution_count": 9,
      "outputs": []
    },
    {
      "cell_type": "code",
      "source": [
        "def minsort(dist):\n",
        "  for m in range(k):\n",
        "    min_distance = dist[m]\n",
        "    min_index = m\n",
        "    for n in range(m+1, len(dist)):\n",
        "      if dist[n][1] < min_distance[1]:\n",
        "        min_distance = dist[n]\n",
        "        min_index = n\n",
        "    dist[m], dist[min_index] = dist[min_index], dist[m]\n",
        "  return dist"
      ],
      "metadata": {
        "id": "2PbOmzcLvUMR"
      },
      "execution_count": 10,
      "outputs": []
    },
    {
      "cell_type": "code",
      "source": [
        "def eud(test_data,train_data,i,train_label):\n",
        "  dist = []\n",
        "  for j in range(len(train_data)):\n",
        "    d = (sum((test_data[i] - train_data[j]) ** 2))**(1/2)\n",
        "    dist.append((train_label[j], d))\n",
        "  return dist"
      ],
      "metadata": {
        "id": "OkbCTHIhxM6k"
      },
      "execution_count": 11,
      "outputs": []
    },
    {
      "cell_type": "code",
      "source": [
        "def KNN(train_data, train_label, test_data, k):\n",
        "    predictions = []\n",
        "\n",
        "    for i in range(len(test_data)):\n",
        "\n",
        "        dist = eud(test_data,train_data,i,train_label)\n",
        "        dist = minsort(dist)\n",
        "        votes = {}\n",
        "        for n in range(k):\n",
        "            label = dist[n][0]\n",
        "            if label in votes:\n",
        "                votes[label] += 1\n",
        "            else:\n",
        "                votes[label] = 1\n",
        "\n",
        "        vmax = max(votes, key=votes.get)\n",
        "        predictions.append(vmax)\n",
        "\n",
        "    return predictions"
      ],
      "metadata": {
        "id": "SqEwLceDICHF"
      },
      "execution_count": 12,
      "outputs": []
    },
    {
      "cell_type": "code",
      "source": [
        "k = 5\n",
        "predictions = []\n",
        "for i in range(len(test_data)):\n",
        "    predictions.extend(KNN(train_data[i], train_labels[i], test_data[i], k))\n",
        "plt.figure(figsize=(5, 6))\n",
        "\n",
        "plt.scatter(test_data[0][:, 0], test_data[0][:, 1], label=f'Setosa')\n",
        "plt.scatter(test_data[1][:, 0], test_data[1][:, 1], label=f'Versicolor')\n",
        "plt.scatter(test_data[2][:, 0], test_data[2][:, 1], label=f'Virginica')\n",
        "plt.xlabel('Sepal.Length')\n",
        "plt.ylabel('Sepal.Width')\n",
        "plt.legend(title='Classes')\n",
        "\n",
        "plt.title('k=5')\n",
        "plt.show()"
      ],
      "metadata": {
        "colab": {
          "base_uri": "https://localhost:8080/",
          "height": 564
        },
        "id": "R9QAJFb_ziMo",
        "outputId": "58a78e3e-c7a1-4563-eabd-15bc1e1d8860"
      },
      "execution_count": 13,
      "outputs": [
        {
          "output_type": "display_data",
          "data": {
            "text/plain": [
              "<Figure size 500x600 with 1 Axes>"
            ],
            "image/png": "[encoded data removed]"
          },
          "metadata": {}
        }
      ]
    }
  ]
}