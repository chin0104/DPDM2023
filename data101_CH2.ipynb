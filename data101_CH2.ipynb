{
  "nbformat": 4,
  "nbformat_minor": 0,
  "metadata": {
    "colab": {
      "provenance": [],
      "toc_visible": true,
      "authorship_tag": "ABX9TyP/eO5FgIiEcg9KPx+2TdqL",
      "include_colab_link": true
    },
    "kernelspec": {
      "name": "python3",
      "display_name": "Python 3"
    },
    "language_info": {
      "name": "python"
    }
  },
  "cells": [
    {
      "cell_type": "markdown",
      "metadata": {
        "id": "view-in-github",
        "colab_type": "text"
      },
      "source": [
        "<a href=\"https://colab.research.google.com/github/chin0104/DPDM2023/blob/main/data101_CH2.ipynb\" target=\"_parent\"><img src=\"https://colab.research.google.com/assets/colab-badge.svg\" alt=\"Open In Colab\"/></a>"
      ]
    },
    {
      "cell_type": "code",
      "execution_count": null,
      "metadata": {
        "id": "r4vyRV4w1tIg"
      },
      "outputs": [],
      "source": [
        "import pandas as pd"
      ]
    },
    {
      "cell_type": "code",
      "source": [
        "df = pd.read_csv('/content/Data.csv')\n"
      ],
      "metadata": {
        "id": "e0Jp2BQn5u9E"
      },
      "execution_count": null,
      "outputs": []
    },
    {
      "cell_type": "code",
      "source": [
        "df"
      ],
      "metadata": {
        "colab": {
          "base_uri": "https://localhost:8080/",
          "height": 143
        },
        "id": "sOlZHaHP7NKI",
        "outputId": "655be26e-2c00-4431-a86c-c70b45411d18"
      },
      "execution_count": null,
      "outputs": [
        {
          "output_type": "execute_result",
          "data": {
            "text/plain": [
              "   Car_ID         Model   Year   Value   Pers_ID\n",
              "0     101       Bentley   1973  100000         0\n",
              "1     102   Rolls Royce   1965  330000         0\n",
              "2     103       Peugeot   1993     500         3"
            ],
            "text/html": [
              "\n",
              "\n",
              "  <div id=\"df-4c6b160a-d612-466a-8db7-8bfef55d1838\">\n",
              "    <div class=\"colab-df-container\">\n",
              "      <div>\n",
              "<style scoped>\n",
              "    .dataframe tbody tr th:only-of-type {\n",
              "        vertical-align: middle;\n",
              "    }\n",
              "\n",
              "    .dataframe tbody tr th {\n",
              "        vertical-align: top;\n",
              "    }\n",
              "\n",
              "    .dataframe thead th {\n",
              "        text-align: right;\n",
              "    }\n",
              "</style>\n",
              "<table border=\"1\" class=\"dataframe\">\n",
              "  <thead>\n",
              "    <tr style=\"text-align: right;\">\n",
              "      <th></th>\n",
              "      <th>Car_ID</th>\n",
              "      <th>Model</th>\n",
              "      <th>Year</th>\n",
              "      <th>Value</th>\n",
              "      <th>Pers_ID</th>\n",
              "    </tr>\n",
              "  </thead>\n",
              "  <tbody>\n",
              "    <tr>\n",
              "      <th>0</th>\n",
              "      <td>101</td>\n",
              "      <td>Bentley</td>\n",
              "      <td>1973</td>\n",
              "      <td>100000</td>\n",
              "      <td>0</td>\n",
              "    </tr>\n",
              "    <tr>\n",
              "      <th>1</th>\n",
              "      <td>102</td>\n",
              "      <td>Rolls Royce</td>\n",
              "      <td>1965</td>\n",
              "      <td>330000</td>\n",
              "      <td>0</td>\n",
              "    </tr>\n",
              "    <tr>\n",
              "      <th>2</th>\n",
              "      <td>103</td>\n",
              "      <td>Peugeot</td>\n",
              "      <td>1993</td>\n",
              "      <td>500</td>\n",
              "      <td>3</td>\n",
              "    </tr>\n",
              "  </tbody>\n",
              "</table>\n",
              "</div>\n",
              "      <button class=\"colab-df-convert\" onclick=\"convertToInteractive('df-4c6b160a-d612-466a-8db7-8bfef55d1838')\"\n",
              "              title=\"Convert this dataframe to an interactive table.\"\n",
              "              style=\"display:none;\">\n",
              "\n",
              "  <svg xmlns=\"http://www.w3.org/2000/svg\" height=\"24px\"viewBox=\"0 0 24 24\"\n",
              "       width=\"24px\">\n",
              "    <path d=\"M0 0h24v24H0V0z\" fill=\"none\"/>\n",
              "    <path d=\"M18.56 5.44l.94 2.06.94-2.06 2.06-.94-2.06-.94-.94-2.06-.94 2.06-2.06.94zm-11 1L8.5 8.5l.94-2.06 2.06-.94-2.06-.94L8.5 2.5l-.94 2.06-2.06.94zm10 10l.94 2.06.94-2.06 2.06-.94-2.06-.94-.94-2.06-.94 2.06-2.06.94z\"/><path d=\"M17.41 7.96l-1.37-1.37c-.4-.4-.92-.59-1.43-.59-.52 0-1.04.2-1.43.59L10.3 9.45l-7.72 7.72c-.78.78-.78 2.05 0 2.83L4 21.41c.39.39.9.59 1.41.59.51 0 1.02-.2 1.41-.59l7.78-7.78 2.81-2.81c.8-.78.8-2.07 0-2.86zM5.41 20L4 18.59l7.72-7.72 1.47 1.35L5.41 20z\"/>\n",
              "  </svg>\n",
              "      </button>\n",
              "\n",
              "\n",
              "\n",
              "    <div id=\"df-047cb7bf-7499-40d9-aa9a-a7a05f3f62dc\">\n",
              "      <button class=\"colab-df-quickchart\" onclick=\"quickchart('df-047cb7bf-7499-40d9-aa9a-a7a05f3f62dc')\"\n",
              "              title=\"Suggest charts.\"\n",
              "              style=\"display:none;\">\n",
              "\n",
              "<svg xmlns=\"http://www.w3.org/2000/svg\" height=\"24px\"viewBox=\"0 0 24 24\"\n",
              "     width=\"24px\">\n",
              "    <g>\n",
              "        <path d=\"M19 3H5c-1.1 0-2 .9-2 2v14c0 1.1.9 2 2 2h14c1.1 0 2-.9 2-2V5c0-1.1-.9-2-2-2zM9 17H7v-7h2v7zm4 0h-2V7h2v10zm4 0h-2v-4h2v4z\"/>\n",
              "    </g>\n",
              "</svg>\n",
              "      </button>\n",
              "    </div>\n",
              "\n",
              "<style>\n",
              "  .colab-df-quickchart {\n",
              "    background-color: #E8F0FE;\n",
              "    border: none;\n",
              "    border-radius: 50%;\n",
              "    cursor: pointer;\n",
              "    display: none;\n",
              "    fill: #1967D2;\n",
              "    height: 32px;\n",
              "    padding: 0 0 0 0;\n",
              "    width: 32px;\n",
              "  }\n",
              "\n",
              "  .colab-df-quickchart:hover {\n",
              "    background-color: #E2EBFA;\n",
              "    box-shadow: 0px 1px 2px rgba(60, 64, 67, 0.3), 0px 1px 3px 1px rgba(60, 64, 67, 0.15);\n",
              "    fill: #174EA6;\n",
              "  }\n",
              "\n",
              "  [theme=dark] .colab-df-quickchart {\n",
              "    background-color: #3B4455;\n",
              "    fill: #D2E3FC;\n",
              "  }\n",
              "\n",
              "  [theme=dark] .colab-df-quickchart:hover {\n",
              "    background-color: #434B5C;\n",
              "    box-shadow: 0px 1px 3px 1px rgba(0, 0, 0, 0.15);\n",
              "    filter: drop-shadow(0px 1px 2px rgba(0, 0, 0, 0.3));\n",
              "    fill: #FFFFFF;\n",
              "  }\n",
              "</style>\n",
              "\n",
              "    <script>\n",
              "      async function quickchart(key) {\n",
              "        const containerElement = document.querySelector('#' + key);\n",
              "        const charts = await google.colab.kernel.invokeFunction(\n",
              "            'suggestCharts', [key], {});\n",
              "      }\n",
              "    </script>\n",
              "\n",
              "      <script>\n",
              "\n",
              "function displayQuickchartButton(domScope) {\n",
              "  let quickchartButtonEl =\n",
              "    domScope.querySelector('#df-047cb7bf-7499-40d9-aa9a-a7a05f3f62dc button.colab-df-quickchart');\n",
              "  quickchartButtonEl.style.display =\n",
              "    google.colab.kernel.accessAllowed ? 'block' : 'none';\n",
              "}\n",
              "\n",
              "        displayQuickchartButton(document);\n",
              "      </script>\n",
              "      <style>\n",
              "    .colab-df-container {\n",
              "      display:flex;\n",
              "      flex-wrap:wrap;\n",
              "      gap: 12px;\n",
              "    }\n",
              "\n",
              "    .colab-df-convert {\n",
              "      background-color: #E8F0FE;\n",
              "      border: none;\n",
              "      border-radius: 50%;\n",
              "      cursor: pointer;\n",
              "      display: none;\n",
              "      fill: #1967D2;\n",
              "      height: 32px;\n",
              "      padding: 0 0 0 0;\n",
              "      width: 32px;\n",
              "    }\n",
              "\n",
              "    .colab-df-convert:hover {\n",
              "      background-color: #E2EBFA;\n",
              "      box-shadow: 0px 1px 2px rgba(60, 64, 67, 0.3), 0px 1px 3px 1px rgba(60, 64, 67, 0.15);\n",
              "      fill: #174EA6;\n",
              "    }\n",
              "\n",
              "    [theme=dark] .colab-df-convert {\n",
              "      background-color: #3B4455;\n",
              "      fill: #D2E3FC;\n",
              "    }\n",
              "\n",
              "    [theme=dark] .colab-df-convert:hover {\n",
              "      background-color: #434B5C;\n",
              "      box-shadow: 0px 1px 3px 1px rgba(0, 0, 0, 0.15);\n",
              "      filter: drop-shadow(0px 1px 2px rgba(0, 0, 0, 0.3));\n",
              "      fill: #FFFFFF;\n",
              "    }\n",
              "  </style>\n",
              "\n",
              "      <script>\n",
              "        const buttonEl =\n",
              "          document.querySelector('#df-4c6b160a-d612-466a-8db7-8bfef55d1838 button.colab-df-convert');\n",
              "        buttonEl.style.display =\n",
              "          google.colab.kernel.accessAllowed ? 'block' : 'none';\n",
              "\n",
              "        async function convertToInteractive(key) {\n",
              "          const element = document.querySelector('#df-4c6b160a-d612-466a-8db7-8bfef55d1838');\n",
              "          const dataTable =\n",
              "            await google.colab.kernel.invokeFunction('convertToInteractive',\n",
              "                                                     [key], {});\n",
              "          if (!dataTable) return;\n",
              "\n",
              "          const docLinkHtml = 'Like what you see? Visit the ' +\n",
              "            '<a target=\"_blank\" href=https://colab.research.google.com/notebooks/data_table.ipynb>data table notebook</a>'\n",
              "            + ' to learn more about interactive tables.';\n",
              "          element.innerHTML = '';\n",
              "          dataTable['output_type'] = 'display_data';\n",
              "          await google.colab.output.renderOutput(dataTable, element);\n",
              "          const docLink = document.createElement('div');\n",
              "          docLink.innerHTML = docLinkHtml;\n",
              "          element.appendChild(docLink);\n",
              "        }\n",
              "      </script>\n",
              "    </div>\n",
              "  </div>\n"
            ]
          },
          "metadata": {},
          "execution_count": 5
        }
      ]
    },
    {
      "cell_type": "code",
      "source": [],
      "metadata": {
        "id": "ARgCtW6l7Pv3"
      },
      "execution_count": null,
      "outputs": []
    },
    {
      "cell_type": "markdown",
      "source": [
        "## Data structure\n",
        "\n"
      ],
      "metadata": {
        "id": "kYnEhsJv8x_g"
      }
    },
    {
      "cell_type": "markdown",
      "source": [
        "### list"
      ],
      "metadata": {
        "id": "lhK3Hny-8_KE"
      }
    },
    {
      "cell_type": "code",
      "source": [
        "la = [1,2,3,0.9,'aaz', df]"
      ],
      "metadata": {
        "id": "fLlQXko79zw2"
      },
      "execution_count": null,
      "outputs": []
    },
    {
      "cell_type": "code",
      "source": [
        "la[0]"
      ],
      "metadata": {
        "colab": {
          "base_uri": "https://localhost:8080/"
        },
        "id": "3FymA0LY98xh",
        "outputId": "a32f7ded-109b-4512-cc3c-42701dbfee50"
      },
      "execution_count": null,
      "outputs": [
        {
          "output_type": "execute_result",
          "data": {
            "text/plain": [
              "1"
            ]
          },
          "metadata": {},
          "execution_count": 7
        }
      ]
    },
    {
      "cell_type": "code",
      "source": [
        "la[5]"
      ],
      "metadata": {
        "colab": {
          "base_uri": "https://localhost:8080/",
          "height": 143
        },
        "id": "Qobh9TQb-MNc",
        "outputId": "094d55f9-c247-4558-a391-bfaf65d70c8c"
      },
      "execution_count": null,
      "outputs": [
        {
          "output_type": "execute_result",
          "data": {
            "text/plain": [
              "   Car_ID         Model   Year   Value   Pers_ID\n",
              "0     101       Bentley   1973  100000         0\n",
              "1     102   Rolls Royce   1965  330000         0\n",
              "2     103       Peugeot   1993     500         3"
            ],
            "text/html": [
              "\n",
              "\n",
              "  <div id=\"df-57c47949-26a6-484e-a4fa-a7d64fc4ee9d\">\n",
              "    <div class=\"colab-df-container\">\n",
              "      <div>\n",
              "<style scoped>\n",
              "    .dataframe tbody tr th:only-of-type {\n",
              "        vertical-align: middle;\n",
              "    }\n",
              "\n",
              "    .dataframe tbody tr th {\n",
              "        vertical-align: top;\n",
              "    }\n",
              "\n",
              "    .dataframe thead th {\n",
              "        text-align: right;\n",
              "    }\n",
              "</style>\n",
              "<table border=\"1\" class=\"dataframe\">\n",
              "  <thead>\n",
              "    <tr style=\"text-align: right;\">\n",
              "      <th></th>\n",
              "      <th>Car_ID</th>\n",
              "      <th>Model</th>\n",
              "      <th>Year</th>\n",
              "      <th>Value</th>\n",
              "      <th>Pers_ID</th>\n",
              "    </tr>\n",
              "  </thead>\n",
              "  <tbody>\n",
              "    <tr>\n",
              "      <th>0</th>\n",
              "      <td>101</td>\n",
              "      <td>Bentley</td>\n",
              "      <td>1973</td>\n",
              "      <td>100000</td>\n",
              "      <td>0</td>\n",
              "    </tr>\n",
              "    <tr>\n",
              "      <th>1</th>\n",
              "      <td>102</td>\n",
              "      <td>Rolls Royce</td>\n",
              "      <td>1965</td>\n",
              "      <td>330000</td>\n",
              "      <td>0</td>\n",
              "    </tr>\n",
              "    <tr>\n",
              "      <th>2</th>\n",
              "      <td>103</td>\n",
              "      <td>Peugeot</td>\n",
              "      <td>1993</td>\n",
              "      <td>500</td>\n",
              "      <td>3</td>\n",
              "    </tr>\n",
              "  </tbody>\n",
              "</table>\n",
              "</div>\n",
              "      <button class=\"colab-df-convert\" onclick=\"convertToInteractive('df-57c47949-26a6-484e-a4fa-a7d64fc4ee9d')\"\n",
              "              title=\"Convert this dataframe to an interactive table.\"\n",
              "              style=\"display:none;\">\n",
              "\n",
              "  <svg xmlns=\"http://www.w3.org/2000/svg\" height=\"24px\"viewBox=\"0 0 24 24\"\n",
              "       width=\"24px\">\n",
              "    <path d=\"M0 0h24v24H0V0z\" fill=\"none\"/>\n",
              "    <path d=\"M18.56 5.44l.94 2.06.94-2.06 2.06-.94-2.06-.94-.94-2.06-.94 2.06-2.06.94zm-11 1L8.5 8.5l.94-2.06 2.06-.94-2.06-.94L8.5 2.5l-.94 2.06-2.06.94zm10 10l.94 2.06.94-2.06 2.06-.94-2.06-.94-.94-2.06-.94 2.06-2.06.94z\"/><path d=\"M17.41 7.96l-1.37-1.37c-.4-.4-.92-.59-1.43-.59-.52 0-1.04.2-1.43.59L10.3 9.45l-7.72 7.72c-.78.78-.78 2.05 0 2.83L4 21.41c.39.39.9.59 1.41.59.51 0 1.02-.2 1.41-.59l7.78-7.78 2.81-2.81c.8-.78.8-2.07 0-2.86zM5.41 20L4 18.59l7.72-7.72 1.47 1.35L5.41 20z\"/>\n",
              "  </svg>\n",
              "      </button>\n",
              "\n",
              "\n",
              "\n",
              "    <div id=\"df-07e34cc3-66c8-47db-9d48-0c189c7e35ab\">\n",
              "      <button class=\"colab-df-quickchart\" onclick=\"quickchart('df-07e34cc3-66c8-47db-9d48-0c189c7e35ab')\"\n",
              "              title=\"Suggest charts.\"\n",
              "              style=\"display:none;\">\n",
              "\n",
              "<svg xmlns=\"http://www.w3.org/2000/svg\" height=\"24px\"viewBox=\"0 0 24 24\"\n",
              "     width=\"24px\">\n",
              "    <g>\n",
              "        <path d=\"M19 3H5c-1.1 0-2 .9-2 2v14c0 1.1.9 2 2 2h14c1.1 0 2-.9 2-2V5c0-1.1-.9-2-2-2zM9 17H7v-7h2v7zm4 0h-2V7h2v10zm4 0h-2v-4h2v4z\"/>\n",
              "    </g>\n",
              "</svg>\n",
              "      </button>\n",
              "    </div>\n",
              "\n",
              "<style>\n",
              "  .colab-df-quickchart {\n",
              "    background-color: #E8F0FE;\n",
              "    border: none;\n",
              "    border-radius: 50%;\n",
              "    cursor: pointer;\n",
              "    display: none;\n",
              "    fill: #1967D2;\n",
              "    height: 32px;\n",
              "    padding: 0 0 0 0;\n",
              "    width: 32px;\n",
              "  }\n",
              "\n",
              "  .colab-df-quickchart:hover {\n",
              "    background-color: #E2EBFA;\n",
              "    box-shadow: 0px 1px 2px rgba(60, 64, 67, 0.3), 0px 1px 3px 1px rgba(60, 64, 67, 0.15);\n",
              "    fill: #174EA6;\n",
              "  }\n",
              "\n",
              "  [theme=dark] .colab-df-quickchart {\n",
              "    background-color: #3B4455;\n",
              "    fill: #D2E3FC;\n",
              "  }\n",
              "\n",
              "  [theme=dark] .colab-df-quickchart:hover {\n",
              "    background-color: #434B5C;\n",
              "    box-shadow: 0px 1px 3px 1px rgba(0, 0, 0, 0.15);\n",
              "    filter: drop-shadow(0px 1px 2px rgba(0, 0, 0, 0.3));\n",
              "    fill: #FFFFFF;\n",
              "  }\n",
              "</style>\n",
              "\n",
              "    <script>\n",
              "      async function quickchart(key) {\n",
              "        const containerElement = document.querySelector('#' + key);\n",
              "        const charts = await google.colab.kernel.invokeFunction(\n",
              "            'suggestCharts', [key], {});\n",
              "      }\n",
              "    </script>\n",
              "\n",
              "      <script>\n",
              "\n",
              "function displayQuickchartButton(domScope) {\n",
              "  let quickchartButtonEl =\n",
              "    domScope.querySelector('#df-07e34cc3-66c8-47db-9d48-0c189c7e35ab button.colab-df-quickchart');\n",
              "  quickchartButtonEl.style.display =\n",
              "    google.colab.kernel.accessAllowed ? 'block' : 'none';\n",
              "}\n",
              "\n",
              "        displayQuickchartButton(document);\n",
              "      </script>\n",
              "      <style>\n",
              "    .colab-df-container {\n",
              "      display:flex;\n",
              "      flex-wrap:wrap;\n",
              "      gap: 12px;\n",
              "    }\n",
              "\n",
              "    .colab-df-convert {\n",
              "      background-color: #E8F0FE;\n",
              "      border: none;\n",
              "      border-radius: 50%;\n",
              "      cursor: pointer;\n",
              "      display: none;\n",
              "      fill: #1967D2;\n",
              "      height: 32px;\n",
              "      padding: 0 0 0 0;\n",
              "      width: 32px;\n",
              "    }\n",
              "\n",
              "    .colab-df-convert:hover {\n",
              "      background-color: #E2EBFA;\n",
              "      box-shadow: 0px 1px 2px rgba(60, 64, 67, 0.3), 0px 1px 3px 1px rgba(60, 64, 67, 0.15);\n",
              "      fill: #174EA6;\n",
              "    }\n",
              "\n",
              "    [theme=dark] .colab-df-convert {\n",
              "      background-color: #3B4455;\n",
              "      fill: #D2E3FC;\n",
              "    }\n",
              "\n",
              "    [theme=dark] .colab-df-convert:hover {\n",
              "      background-color: #434B5C;\n",
              "      box-shadow: 0px 1px 3px 1px rgba(0, 0, 0, 0.15);\n",
              "      filter: drop-shadow(0px 1px 2px rgba(0, 0, 0, 0.3));\n",
              "      fill: #FFFFFF;\n",
              "    }\n",
              "  </style>\n",
              "\n",
              "      <script>\n",
              "        const buttonEl =\n",
              "          document.querySelector('#df-57c47949-26a6-484e-a4fa-a7d64fc4ee9d button.colab-df-convert');\n",
              "        buttonEl.style.display =\n",
              "          google.colab.kernel.accessAllowed ? 'block' : 'none';\n",
              "\n",
              "        async function convertToInteractive(key) {\n",
              "          const element = document.querySelector('#df-57c47949-26a6-484e-a4fa-a7d64fc4ee9d');\n",
              "          const dataTable =\n",
              "            await google.colab.kernel.invokeFunction('convertToInteractive',\n",
              "                                                     [key], {});\n",
              "          if (!dataTable) return;\n",
              "\n",
              "          const docLinkHtml = 'Like what you see? Visit the ' +\n",
              "            '<a target=\"_blank\" href=https://colab.research.google.com/notebooks/data_table.ipynb>data table notebook</a>'\n",
              "            + ' to learn more about interactive tables.';\n",
              "          element.innerHTML = '';\n",
              "          dataTable['output_type'] = 'display_data';\n",
              "          await google.colab.output.renderOutput(dataTable, element);\n",
              "          const docLink = document.createElement('div');\n",
              "          docLink.innerHTML = docLinkHtml;\n",
              "          element.appendChild(docLink);\n",
              "        }\n",
              "      </script>\n",
              "    </div>\n",
              "  </div>\n"
            ]
          },
          "metadata": {},
          "execution_count": 9
        }
      ]
    },
    {
      "cell_type": "code",
      "source": [
        "lb = ['pizza', la]"
      ],
      "metadata": {
        "id": "snvk-HtD-Qtf"
      },
      "execution_count": null,
      "outputs": []
    },
    {
      "cell_type": "code",
      "source": [
        "lb"
      ],
      "metadata": {
        "colab": {
          "base_uri": "https://localhost:8080/"
        },
        "id": "jM2NdHqS_DeN",
        "outputId": "55981804-b74e-4477-9a84-2632ef0c97e3"
      },
      "execution_count": null,
      "outputs": [
        {
          "output_type": "execute_result",
          "data": {
            "text/plain": [
              "['pizza',\n",
              " [1,\n",
              "  2,\n",
              "  3,\n",
              "  0.9,\n",
              "  'aaz',\n",
              "     Car_ID         Model   Year   Value   Pers_ID\n",
              "  0     101       Bentley   1973  100000         0\n",
              "  1     102   Rolls Royce   1965  330000         0\n",
              "  2     103       Peugeot   1993     500         3]]"
            ]
          },
          "metadata": {},
          "execution_count": 11
        }
      ]
    },
    {
      "cell_type": "code",
      "source": [
        "lb[1][5]"
      ],
      "metadata": {
        "colab": {
          "base_uri": "https://localhost:8080/",
          "height": 143
        },
        "id": "mw7TSME2_Eb1",
        "outputId": "7bf7d106-589a-4f18-e471-27b2828fd982"
      },
      "execution_count": null,
      "outputs": [
        {
          "output_type": "execute_result",
          "data": {
            "text/plain": [
              "   Car_ID         Model   Year   Value   Pers_ID\n",
              "0     101       Bentley   1973  100000         0\n",
              "1     102   Rolls Royce   1965  330000         0\n",
              "2     103       Peugeot   1993     500         3"
            ],
            "text/html": [
              "\n",
              "\n",
              "  <div id=\"df-04020ee6-fac6-4d19-8f11-a65e3166b5aa\">\n",
              "    <div class=\"colab-df-container\">\n",
              "      <div>\n",
              "<style scoped>\n",
              "    .dataframe tbody tr th:only-of-type {\n",
              "        vertical-align: middle;\n",
              "    }\n",
              "\n",
              "    .dataframe tbody tr th {\n",
              "        vertical-align: top;\n",
              "    }\n",
              "\n",
              "    .dataframe thead th {\n",
              "        text-align: right;\n",
              "    }\n",
              "</style>\n",
              "<table border=\"1\" class=\"dataframe\">\n",
              "  <thead>\n",
              "    <tr style=\"text-align: right;\">\n",
              "      <th></th>\n",
              "      <th>Car_ID</th>\n",
              "      <th>Model</th>\n",
              "      <th>Year</th>\n",
              "      <th>Value</th>\n",
              "      <th>Pers_ID</th>\n",
              "    </tr>\n",
              "  </thead>\n",
              "  <tbody>\n",
              "    <tr>\n",
              "      <th>0</th>\n",
              "      <td>101</td>\n",
              "      <td>Bentley</td>\n",
              "      <td>1973</td>\n",
              "      <td>100000</td>\n",
              "      <td>0</td>\n",
              "    </tr>\n",
              "    <tr>\n",
              "      <th>1</th>\n",
              "      <td>102</td>\n",
              "      <td>Rolls Royce</td>\n",
              "      <td>1965</td>\n",
              "      <td>330000</td>\n",
              "      <td>0</td>\n",
              "    </tr>\n",
              "    <tr>\n",
              "      <th>2</th>\n",
              "      <td>103</td>\n",
              "      <td>Peugeot</td>\n",
              "      <td>1993</td>\n",
              "      <td>500</td>\n",
              "      <td>3</td>\n",
              "    </tr>\n",
              "  </tbody>\n",
              "</table>\n",
              "</div>\n",
              "      <button class=\"colab-df-convert\" onclick=\"convertToInteractive('df-04020ee6-fac6-4d19-8f11-a65e3166b5aa')\"\n",
              "              title=\"Convert this dataframe to an interactive table.\"\n",
              "              style=\"display:none;\">\n",
              "\n",
              "  <svg xmlns=\"http://www.w3.org/2000/svg\" height=\"24px\"viewBox=\"0 0 24 24\"\n",
              "       width=\"24px\">\n",
              "    <path d=\"M0 0h24v24H0V0z\" fill=\"none\"/>\n",
              "    <path d=\"M18.56 5.44l.94 2.06.94-2.06 2.06-.94-2.06-.94-.94-2.06-.94 2.06-2.06.94zm-11 1L8.5 8.5l.94-2.06 2.06-.94-2.06-.94L8.5 2.5l-.94 2.06-2.06.94zm10 10l.94 2.06.94-2.06 2.06-.94-2.06-.94-.94-2.06-.94 2.06-2.06.94z\"/><path d=\"M17.41 7.96l-1.37-1.37c-.4-.4-.92-.59-1.43-.59-.52 0-1.04.2-1.43.59L10.3 9.45l-7.72 7.72c-.78.78-.78 2.05 0 2.83L4 21.41c.39.39.9.59 1.41.59.51 0 1.02-.2 1.41-.59l7.78-7.78 2.81-2.81c.8-.78.8-2.07 0-2.86zM5.41 20L4 18.59l7.72-7.72 1.47 1.35L5.41 20z\"/>\n",
              "  </svg>\n",
              "      </button>\n",
              "\n",
              "\n",
              "\n",
              "    <div id=\"df-85213efa-fed9-4119-b1cc-19dd6b9007b5\">\n",
              "      <button class=\"colab-df-quickchart\" onclick=\"quickchart('df-85213efa-fed9-4119-b1cc-19dd6b9007b5')\"\n",
              "              title=\"Suggest charts.\"\n",
              "              style=\"display:none;\">\n",
              "\n",
              "<svg xmlns=\"http://www.w3.org/2000/svg\" height=\"24px\"viewBox=\"0 0 24 24\"\n",
              "     width=\"24px\">\n",
              "    <g>\n",
              "        <path d=\"M19 3H5c-1.1 0-2 .9-2 2v14c0 1.1.9 2 2 2h14c1.1 0 2-.9 2-2V5c0-1.1-.9-2-2-2zM9 17H7v-7h2v7zm4 0h-2V7h2v10zm4 0h-2v-4h2v4z\"/>\n",
              "    </g>\n",
              "</svg>\n",
              "      </button>\n",
              "    </div>\n",
              "\n",
              "<style>\n",
              "  .colab-df-quickchart {\n",
              "    background-color: #E8F0FE;\n",
              "    border: none;\n",
              "    border-radius: 50%;\n",
              "    cursor: pointer;\n",
              "    display: none;\n",
              "    fill: #1967D2;\n",
              "    height: 32px;\n",
              "    padding: 0 0 0 0;\n",
              "    width: 32px;\n",
              "  }\n",
              "\n",
              "  .colab-df-quickchart:hover {\n",
              "    background-color: #E2EBFA;\n",
              "    box-shadow: 0px 1px 2px rgba(60, 64, 67, 0.3), 0px 1px 3px 1px rgba(60, 64, 67, 0.15);\n",
              "    fill: #174EA6;\n",
              "  }\n",
              "\n",
              "  [theme=dark] .colab-df-quickchart {\n",
              "    background-color: #3B4455;\n",
              "    fill: #D2E3FC;\n",
              "  }\n",
              "\n",
              "  [theme=dark] .colab-df-quickchart:hover {\n",
              "    background-color: #434B5C;\n",
              "    box-shadow: 0px 1px 3px 1px rgba(0, 0, 0, 0.15);\n",
              "    filter: drop-shadow(0px 1px 2px rgba(0, 0, 0, 0.3));\n",
              "    fill: #FFFFFF;\n",
              "  }\n",
              "</style>\n",
              "\n",
              "    <script>\n",
              "      async function quickchart(key) {\n",
              "        const containerElement = document.querySelector('#' + key);\n",
              "        const charts = await google.colab.kernel.invokeFunction(\n",
              "            'suggestCharts', [key], {});\n",
              "      }\n",
              "    </script>\n",
              "\n",
              "      <script>\n",
              "\n",
              "function displayQuickchartButton(domScope) {\n",
              "  let quickchartButtonEl =\n",
              "    domScope.querySelector('#df-85213efa-fed9-4119-b1cc-19dd6b9007b5 button.colab-df-quickchart');\n",
              "  quickchartButtonEl.style.display =\n",
              "    google.colab.kernel.accessAllowed ? 'block' : 'none';\n",
              "}\n",
              "\n",
              "        displayQuickchartButton(document);\n",
              "      </script>\n",
              "      <style>\n",
              "    .colab-df-container {\n",
              "      display:flex;\n",
              "      flex-wrap:wrap;\n",
              "      gap: 12px;\n",
              "    }\n",
              "\n",
              "    .colab-df-convert {\n",
              "      background-color: #E8F0FE;\n",
              "      border: none;\n",
              "      border-radius: 50%;\n",
              "      cursor: pointer;\n",
              "      display: none;\n",
              "      fill: #1967D2;\n",
              "      height: 32px;\n",
              "      padding: 0 0 0 0;\n",
              "      width: 32px;\n",
              "    }\n",
              "\n",
              "    .colab-df-convert:hover {\n",
              "      background-color: #E2EBFA;\n",
              "      box-shadow: 0px 1px 2px rgba(60, 64, 67, 0.3), 0px 1px 3px 1px rgba(60, 64, 67, 0.15);\n",
              "      fill: #174EA6;\n",
              "    }\n",
              "\n",
              "    [theme=dark] .colab-df-convert {\n",
              "      background-color: #3B4455;\n",
              "      fill: #D2E3FC;\n",
              "    }\n",
              "\n",
              "    [theme=dark] .colab-df-convert:hover {\n",
              "      background-color: #434B5C;\n",
              "      box-shadow: 0px 1px 3px 1px rgba(0, 0, 0, 0.15);\n",
              "      filter: drop-shadow(0px 1px 2px rgba(0, 0, 0, 0.3));\n",
              "      fill: #FFFFFF;\n",
              "    }\n",
              "  </style>\n",
              "\n",
              "      <script>\n",
              "        const buttonEl =\n",
              "          document.querySelector('#df-04020ee6-fac6-4d19-8f11-a65e3166b5aa button.colab-df-convert');\n",
              "        buttonEl.style.display =\n",
              "          google.colab.kernel.accessAllowed ? 'block' : 'none';\n",
              "\n",
              "        async function convertToInteractive(key) {\n",
              "          const element = document.querySelector('#df-04020ee6-fac6-4d19-8f11-a65e3166b5aa');\n",
              "          const dataTable =\n",
              "            await google.colab.kernel.invokeFunction('convertToInteractive',\n",
              "                                                     [key], {});\n",
              "          if (!dataTable) return;\n",
              "\n",
              "          const docLinkHtml = 'Like what you see? Visit the ' +\n",
              "            '<a target=\"_blank\" href=https://colab.research.google.com/notebooks/data_table.ipynb>data table notebook</a>'\n",
              "            + ' to learn more about interactive tables.';\n",
              "          element.innerHTML = '';\n",
              "          dataTable['output_type'] = 'display_data';\n",
              "          await google.colab.output.renderOutput(dataTable, element);\n",
              "          const docLink = document.createElement('div');\n",
              "          docLink.innerHTML = docLinkHtml;\n",
              "          element.appendChild(docLink);\n",
              "        }\n",
              "      </script>\n",
              "    </div>\n",
              "  </div>\n"
            ]
          },
          "metadata": {},
          "execution_count": 13
        }
      ]
    },
    {
      "cell_type": "code",
      "source": [],
      "metadata": {
        "id": "jk_Ozcgt_esw"
      },
      "execution_count": null,
      "outputs": []
    },
    {
      "cell_type": "markdown",
      "source": [
        "###String is a list of characters"
      ],
      "metadata": {
        "id": "Ca3ilUrUAEnv"
      }
    },
    {
      "cell_type": "code",
      "source": [
        "x = 'shabu'"
      ],
      "metadata": {
        "id": "WMBFEAgWALx4"
      },
      "execution_count": null,
      "outputs": []
    },
    {
      "cell_type": "code",
      "source": [
        "x[-2]"
      ],
      "metadata": {
        "colab": {
          "base_uri": "https://localhost:8080/",
          "height": 36
        },
        "id": "aWJfM9EsAOJM",
        "outputId": "cf6c8c34-3285-4187-ed7d-1151330ecbc7"
      },
      "execution_count": null,
      "outputs": [
        {
          "output_type": "execute_result",
          "data": {
            "text/plain": [
              "'b'"
            ],
            "application/vnd.google.colaboratory.intrinsic+json": {
              "type": "string"
            }
          },
          "metadata": {},
          "execution_count": 15
        }
      ]
    },
    {
      "cell_type": "code",
      "source": [
        "print(la)\n",
        "print(lb)"
      ],
      "metadata": {
        "colab": {
          "base_uri": "https://localhost:8080/"
        },
        "id": "Ei33Mzj0APsP",
        "outputId": "27b7b405-efd9-4003-8b55-bf056d75b5ba"
      },
      "execution_count": null,
      "outputs": [
        {
          "output_type": "stream",
          "name": "stdout",
          "text": [
            "[1, 2, 3, 0.9, 'aaz',    Car_ID         Model   Year   Value   Pers_ID\n",
            "0     101       Bentley   1973  100000         0\n",
            "1     102   Rolls Royce   1965  330000         0\n",
            "2     103       Peugeot   1993     500         3]\n",
            "['pizza', [1, 2, 3, 0.9, 'aaz',    Car_ID         Model   Year   Value   Pers_ID\n",
            "0     101       Bentley   1973  100000         0\n",
            "1     102   Rolls Royce   1965  330000         0\n",
            "2     103       Peugeot   1993     500         3]]\n"
          ]
        }
      ]
    },
    {
      "cell_type": "code",
      "source": [
        "laa = []"
      ],
      "metadata": {
        "id": "yXKU-ElYAVn_"
      },
      "execution_count": null,
      "outputs": []
    },
    {
      "cell_type": "code",
      "source": [
        "laa"
      ],
      "metadata": {
        "colab": {
          "base_uri": "https://localhost:8080/"
        },
        "id": "GuVSC1fyBESY",
        "outputId": "6f6c34d1-b33b-4f8a-f00d-94cf2ec8c777"
      },
      "execution_count": null,
      "outputs": [
        {
          "output_type": "execute_result",
          "data": {
            "text/plain": [
              "[]"
            ]
          },
          "metadata": {},
          "execution_count": 20
        }
      ]
    },
    {
      "cell_type": "code",
      "source": [
        "lbb = list()"
      ],
      "metadata": {
        "id": "_1qe7yM_BFLj"
      },
      "execution_count": null,
      "outputs": []
    },
    {
      "cell_type": "code",
      "source": [
        "lbb"
      ],
      "metadata": {
        "colab": {
          "base_uri": "https://localhost:8080/"
        },
        "id": "DMQpE52TBKo8",
        "outputId": "49d811e3-400b-4ddd-e0dc-5c29c22d8b5b"
      },
      "execution_count": null,
      "outputs": [
        {
          "output_type": "execute_result",
          "data": {
            "text/plain": [
              "[]"
            ]
          },
          "metadata": {},
          "execution_count": 22
        }
      ]
    },
    {
      "cell_type": "code",
      "source": [
        "\n"
      ],
      "metadata": {
        "id": "Kzmh80SxBL2E"
      },
      "execution_count": null,
      "outputs": []
    },
    {
      "cell_type": "code",
      "source": [
        "laa.append('chiken')\n",
        "laa.append('water')\n",
        "laa.append('vegetable')\n",
        "laa.append('rice')\n",
        "laa.append('plate')\n",
        "laa.append('spoon')\n",
        "laa.append('fork')\n",
        "laa.append('knife')\n",
        "laa.append('apple')"
      ],
      "metadata": {
        "id": "Jlf8vYLLBgE3"
      },
      "execution_count": null,
      "outputs": []
    },
    {
      "cell_type": "code",
      "source": [
        "laa"
      ],
      "metadata": {
        "colab": {
          "base_uri": "https://localhost:8080/"
        },
        "id": "rI97M7lqBx_c",
        "outputId": "73977563-6ac6-4e88-9a94-8918029e6034"
      },
      "execution_count": null,
      "outputs": [
        {
          "output_type": "execute_result",
          "data": {
            "text/plain": [
              "['chiken', 'water', 'vegetable', 'rice']"
            ]
          },
          "metadata": {},
          "execution_count": 29
        }
      ]
    },
    {
      "cell_type": "markdown",
      "source": [
        "###list slicing"
      ],
      "metadata": {
        "id": "0Q4VdGiqEt8D"
      }
    },
    {
      "cell_type": "code",
      "source": [
        "laa[2:7:1]"
      ],
      "metadata": {
        "colab": {
          "base_uri": "https://localhost:8080/"
        },
        "id": "QQPZvgl1BzAI",
        "outputId": "e63a651e-4b11-4a61-ce6e-8f1d60eba8e8"
      },
      "execution_count": null,
      "outputs": [
        {
          "output_type": "execute_result",
          "data": {
            "text/plain": [
              "['vegetable', 'rice', 'plate', 'spoon', 'fork']"
            ]
          },
          "metadata": {},
          "execution_count": 34
        }
      ]
    },
    {
      "cell_type": "code",
      "source": [
        "laa[2:7]"
      ],
      "metadata": {
        "colab": {
          "base_uri": "https://localhost:8080/"
        },
        "id": "iD5HzjUpHHO3",
        "outputId": "92a20d2e-7746-4d2a-e0ec-6f7c995e4120"
      },
      "execution_count": null,
      "outputs": [
        {
          "output_type": "execute_result",
          "data": {
            "text/plain": [
              "['vegetable', 'rice', 'plate', 'spoon', 'fork']"
            ]
          },
          "metadata": {},
          "execution_count": 35
        }
      ]
    },
    {
      "cell_type": "code",
      "source": [
        "laa[2:]"
      ],
      "metadata": {
        "colab": {
          "base_uri": "https://localhost:8080/"
        },
        "id": "-U7AaGe8H7s8",
        "outputId": "7c7dbba0-8c1b-4833-cf93-6f0b34060975"
      },
      "execution_count": null,
      "outputs": [
        {
          "output_type": "execute_result",
          "data": {
            "text/plain": [
              "['vegetable', 'rice', 'plate', 'spoon', 'fork', 'knife', 'apple']"
            ]
          },
          "metadata": {},
          "execution_count": 36
        }
      ]
    },
    {
      "cell_type": "code",
      "source": [
        "laa[:5]"
      ],
      "metadata": {
        "colab": {
          "base_uri": "https://localhost:8080/"
        },
        "id": "59CzSUO8H9YZ",
        "outputId": "007a33b8-b2af-4c9e-bcb1-9e5276cfc93d"
      },
      "execution_count": null,
      "outputs": [
        {
          "output_type": "execute_result",
          "data": {
            "text/plain": [
              "['chiken', 'water', 'vegetable', 'rice', 'plate']"
            ]
          },
          "metadata": {},
          "execution_count": 37
        }
      ]
    },
    {
      "cell_type": "code",
      "source": [
        "laa[:5:]"
      ],
      "metadata": {
        "colab": {
          "base_uri": "https://localhost:8080/"
        },
        "id": "CLKktzBXIRhr",
        "outputId": "be8a626f-c9d9-4b6a-b0be-d4a831011edd"
      },
      "execution_count": null,
      "outputs": [
        {
          "output_type": "execute_result",
          "data": {
            "text/plain": [
              "['chiken', 'water', 'vegetable', 'rice', 'plate']"
            ]
          },
          "metadata": {},
          "execution_count": 38
        }
      ]
    },
    {
      "cell_type": "code",
      "source": [
        "laa[::-1]"
      ],
      "metadata": {
        "colab": {
          "base_uri": "https://localhost:8080/"
        },
        "id": "pirNHqT8IV6Y",
        "outputId": "61c4a1f7-6218-46f2-8988-2323f1feeaa5"
      },
      "execution_count": null,
      "outputs": [
        {
          "output_type": "execute_result",
          "data": {
            "text/plain": [
              "['apple',\n",
              " 'knife',\n",
              " 'fork',\n",
              " 'spoon',\n",
              " 'plate',\n",
              " 'rice',\n",
              " 'vegetable',\n",
              " 'water',\n",
              " 'chiken']"
            ]
          },
          "metadata": {},
          "execution_count": 39
        }
      ]
    },
    {
      "cell_type": "code",
      "source": [
        "laa"
      ],
      "metadata": {
        "colab": {
          "base_uri": "https://localhost:8080/"
        },
        "id": "osg5l8sNIyOw",
        "outputId": "31d5f976-64d5-4019-a370-97d01a525c73"
      },
      "execution_count": null,
      "outputs": [
        {
          "output_type": "execute_result",
          "data": {
            "text/plain": [
              "['chiken',\n",
              " 'water',\n",
              " 'vegetable',\n",
              " 'rice',\n",
              " 'plate',\n",
              " 'spoon',\n",
              " 'fork',\n",
              " 'knife',\n",
              " 'apple']"
            ]
          },
          "metadata": {},
          "execution_count": 40
        }
      ]
    },
    {
      "cell_type": "code",
      "source": [
        "laa[0][2:]"
      ],
      "metadata": {
        "colab": {
          "base_uri": "https://localhost:8080/",
          "height": 36
        },
        "id": "AKINzff5JDMo",
        "outputId": "447eff3e-0a3d-4b36-9312-2f5be06ca6d2"
      },
      "execution_count": null,
      "outputs": [
        {
          "output_type": "execute_result",
          "data": {
            "text/plain": [
              "'iken'"
            ],
            "application/vnd.google.colaboratory.intrinsic+json": {
              "type": "string"
            }
          },
          "metadata": {},
          "execution_count": 42
        }
      ]
    },
    {
      "cell_type": "code",
      "source": [
        "laa[2][2:5]"
      ],
      "metadata": {
        "colab": {
          "base_uri": "https://localhost:8080/",
          "height": 36
        },
        "id": "OnkaIjwSJK_z",
        "outputId": "f5b6c9d5-dff7-4bcf-93a2-1614c21a20ad"
      },
      "execution_count": null,
      "outputs": [
        {
          "output_type": "execute_result",
          "data": {
            "text/plain": [
              "'get'"
            ],
            "application/vnd.google.colaboratory.intrinsic+json": {
              "type": "string"
            }
          },
          "metadata": {},
          "execution_count": 44
        }
      ]
    },
    {
      "cell_type": "code",
      "source": [
        "for i in laa:\n",
        "  print(i)"
      ],
      "metadata": {
        "colab": {
          "base_uri": "https://localhost:8080/"
        },
        "id": "kx9qV_YhJcXm",
        "outputId": "792cec8c-eb75-4f9c-81d2-865c47c10cbd"
      },
      "execution_count": null,
      "outputs": [
        {
          "output_type": "stream",
          "name": "stdout",
          "text": [
            "chiken\n",
            "water\n",
            "vegetable\n",
            "rice\n",
            "plate\n",
            "spoon\n",
            "fork\n",
            "knife\n",
            "apple\n"
          ]
        }
      ]
    },
    {
      "cell_type": "code",
      "source": [
        "for i in [1,2,3]:\n",
        "  print(i,end='')\n",
        "  print('xx')"
      ],
      "metadata": {
        "colab": {
          "base_uri": "https://localhost:8080/"
        },
        "id": "tNOH7KrRKvW-",
        "outputId": "a6fcd832-01cd-4ce8-ce93-30a1b6a88e02"
      },
      "execution_count": null,
      "outputs": [
        {
          "output_type": "stream",
          "name": "stdout",
          "text": [
            "1xx\n",
            "2xx\n",
            "3xx\n"
          ]
        }
      ]
    },
    {
      "cell_type": "code",
      "source": [
        "for i in laa:\n",
        "  print(f'now i is {i}')\n",
        "  print(f'I like to eat {i} ')"
      ],
      "metadata": {
        "colab": {
          "base_uri": "https://localhost:8080/"
        },
        "id": "qOi8J_J6K47n",
        "outputId": "c195e9ef-d708-4232-f52f-10ac07bd1f8a"
      },
      "execution_count": null,
      "outputs": [
        {
          "output_type": "stream",
          "name": "stdout",
          "text": [
            "now i is chiken\n",
            "I like to eat chiken\n",
            "now i is water\n",
            "I like to eat water\n",
            "now i is vegetable\n",
            "I like to eat vegetable\n",
            "now i is rice\n",
            "I like to eat rice\n",
            "now i is plate\n",
            "I like to eat plate\n",
            "now i is spoon\n",
            "I like to eat spoon\n",
            "now i is fork\n",
            "I like to eat fork\n",
            "now i is knife\n",
            "I like to eat knife\n",
            "now i is apple\n",
            "I like to eat apple\n"
          ]
        }
      ]
    },
    {
      "cell_type": "code",
      "source": [
        "list(range(10,20,2))"
      ],
      "metadata": {
        "colab": {
          "base_uri": "https://localhost:8080/"
        },
        "id": "f8Taq1EzLw43",
        "outputId": "7be005be-26fa-4f42-d31a-db172ec7a8aa"
      },
      "execution_count": null,
      "outputs": [
        {
          "output_type": "execute_result",
          "data": {
            "text/plain": [
              "[10, 12, 14, 16, 18]"
            ]
          },
          "metadata": {},
          "execution_count": 61
        }
      ]
    },
    {
      "cell_type": "code",
      "source": [
        "for i in range(100):\n",
        "  print(f'H{i}',end='')"
      ],
      "metadata": {
        "colab": {
          "base_uri": "https://localhost:8080/"
        },
        "id": "-7bh-54EMnzq",
        "outputId": "d43a402a-dd44-4b65-f161-5885a13af288"
      },
      "execution_count": null,
      "outputs": [
        {
          "output_type": "stream",
          "name": "stdout",
          "text": [
            "H0H1H2H3H4H5H6H7H8H9H10H11H12H13H14H15H16H17H18H19H20H21H22H23H24H25H26H27H28H29H30H31H32H33H34H35H36H37H38H39H40H41H42H43H44H45H46H47H48H49H50H51H52H53H54H55H56H57H58H59H60H61H62H63H64H65H66H67H68H69H70H71H72H73H74H75H76H77H78H79H80H81H82H83H84H85H86H87H88H89H90H91H92H93H94H95H96H97H98H99"
          ]
        }
      ]
    },
    {
      "cell_type": "markdown",
      "source": [
        "###Loop"
      ],
      "metadata": {
        "id": "PnNUEpVVr21P"
      }
    },
    {
      "cell_type": "code",
      "source": [
        "for i in range(3):\n",
        "  print(f'i = {i}')\n",
        "  for j in range(2):\n",
        "    print(f'i = {i}, i = {j}, I+j ={i+j}')"
      ],
      "metadata": {
        "colab": {
          "base_uri": "https://localhost:8080/"
        },
        "id": "GI0_SjvLr5dm",
        "outputId": "9ff1b0e0-bd15-44e1-80d6-518796b48d5a"
      },
      "execution_count": null,
      "outputs": [
        {
          "output_type": "stream",
          "name": "stdout",
          "text": [
            "i = 0\n",
            "i = 0, i = 0, I+j =0\n",
            "i = 0, i = 1, I+j =1\n",
            "i = 1\n",
            "i = 1, i = 0, I+j =1\n",
            "i = 1, i = 1, I+j =2\n",
            "i = 2\n",
            "i = 2, i = 0, I+j =2\n",
            "i = 2, i = 1, I+j =3\n"
          ]
        }
      ]
    },
    {
      "cell_type": "code",
      "source": [],
      "metadata": {
        "id": "7xLpNMvYsWRr"
      },
      "execution_count": null,
      "outputs": []
    },
    {
      "cell_type": "markdown",
      "source": [
        "#Example"
      ],
      "metadata": {
        "id": "SuRqkMSTtV0L"
      }
    },
    {
      "cell_type": "code",
      "source": [
        "la = []\n",
        "for i in range(10):\n",
        "  AA = []\n",
        "  for j in range (i+1):\n",
        "    A = 1\n",
        "    AA.append(A)\n",
        "  la.append(AA)"
      ],
      "metadata": {
        "id": "GGA5O812tewC"
      },
      "execution_count": null,
      "outputs": []
    },
    {
      "cell_type": "code",
      "source": [
        "la"
      ],
      "metadata": {
        "colab": {
          "base_uri": "https://localhost:8080/"
        },
        "id": "nyyvYNGjt1FH",
        "outputId": "c35d7d0d-d482-4a95-9b51-c4aa0d69f8b8"
      },
      "execution_count": null,
      "outputs": [
        {
          "output_type": "execute_result",
          "data": {
            "text/plain": [
              "[[1],\n",
              " [1, 1],\n",
              " [1, 1, 1],\n",
              " [1, 1, 1, 1],\n",
              " [1, 1, 1, 1, 1],\n",
              " [1, 1, 1, 1, 1, 1],\n",
              " [1, 1, 1, 1, 1, 1, 1],\n",
              " [1, 1, 1, 1, 1, 1, 1, 1],\n",
              " [1, 1, 1, 1, 1, 1, 1, 1, 1],\n",
              " [1, 1, 1, 1, 1, 1, 1, 1, 1, 1]]"
            ]
          },
          "metadata": {},
          "execution_count": 5
        }
      ]
    },
    {
      "cell_type": "code",
      "source": [
        "l_an = []\n",
        "print(f'l_an = {l_an}')\n",
        "for i in range(1,11):\n",
        "  temp =[]\n",
        "  for j in range(i):\n",
        "    temp.append(1)\n",
        "  print(f'i = {i} j = {j} : temp = {temp}')\n",
        "  l_an.append(temp)\n",
        "  print(f'l_an = {l_an}                                                        ')"
      ],
      "metadata": {
        "colab": {
          "base_uri": "https://localhost:8080/"
        },
        "id": "FTd1CfYqt2N_",
        "outputId": "badcf267-d68c-43e1-cf2f-b3ecd3769c88"
      },
      "execution_count": null,
      "outputs": [
        {
          "output_type": "stream",
          "name": "stdout",
          "text": [
            "l_an = []\n",
            "i = 1 j = 0 : temp = [1]\n",
            "l_an = [[1]]                                                        \n",
            "i = 2 j = 1 : temp = [1, 1]\n",
            "l_an = [[1], [1, 1]]                                                        \n",
            "i = 3 j = 2 : temp = [1, 1, 1]\n",
            "l_an = [[1], [1, 1], [1, 1, 1]]                                                        \n",
            "i = 4 j = 3 : temp = [1, 1, 1, 1]\n",
            "l_an = [[1], [1, 1], [1, 1, 1], [1, 1, 1, 1]]                                                        \n",
            "i = 5 j = 4 : temp = [1, 1, 1, 1, 1]\n",
            "l_an = [[1], [1, 1], [1, 1, 1], [1, 1, 1, 1], [1, 1, 1, 1, 1]]                                                        \n",
            "i = 6 j = 5 : temp = [1, 1, 1, 1, 1, 1]\n",
            "l_an = [[1], [1, 1], [1, 1, 1], [1, 1, 1, 1], [1, 1, 1, 1, 1], [1, 1, 1, 1, 1, 1]]                                                        \n",
            "i = 7 j = 6 : temp = [1, 1, 1, 1, 1, 1, 1]\n",
            "l_an = [[1], [1, 1], [1, 1, 1], [1, 1, 1, 1], [1, 1, 1, 1, 1], [1, 1, 1, 1, 1, 1], [1, 1, 1, 1, 1, 1, 1]]                                                        \n",
            "i = 8 j = 7 : temp = [1, 1, 1, 1, 1, 1, 1, 1]\n",
            "l_an = [[1], [1, 1], [1, 1, 1], [1, 1, 1, 1], [1, 1, 1, 1, 1], [1, 1, 1, 1, 1, 1], [1, 1, 1, 1, 1, 1, 1], [1, 1, 1, 1, 1, 1, 1, 1]]                                                        \n",
            "i = 9 j = 8 : temp = [1, 1, 1, 1, 1, 1, 1, 1, 1]\n",
            "l_an = [[1], [1, 1], [1, 1, 1], [1, 1, 1, 1], [1, 1, 1, 1, 1], [1, 1, 1, 1, 1, 1], [1, 1, 1, 1, 1, 1, 1], [1, 1, 1, 1, 1, 1, 1, 1], [1, 1, 1, 1, 1, 1, 1, 1, 1]]                                                        \n",
            "i = 10 j = 9 : temp = [1, 1, 1, 1, 1, 1, 1, 1, 1, 1]\n",
            "l_an = [[1], [1, 1], [1, 1, 1], [1, 1, 1, 1], [1, 1, 1, 1, 1], [1, 1, 1, 1, 1, 1], [1, 1, 1, 1, 1, 1, 1], [1, 1, 1, 1, 1, 1, 1, 1], [1, 1, 1, 1, 1, 1, 1, 1, 1], [1, 1, 1, 1, 1, 1, 1, 1, 1, 1]]                                                        \n"
          ]
        }
      ]
    },
    {
      "cell_type": "code",
      "source": [],
      "metadata": {
        "id": "Yx6OST7Wvu60"
      },
      "execution_count": null,
      "outputs": []
    },
    {
      "cell_type": "markdown",
      "source": [
        "Quiz 2\n",
        "Create a list"
      ],
      "metadata": {
        "id": "AVDYBxxrwJ2x"
      }
    },
    {
      "cell_type": "code",
      "source": [
        "loc = ['a','b','c','d','e','f','g','h','i','j']\n",
        "l = []"
      ],
      "metadata": {
        "id": "L07U3PwvwL9e"
      },
      "execution_count": null,
      "outputs": []
    },
    {
      "cell_type": "code",
      "source": [
        "loc[0]"
      ],
      "metadata": {
        "colab": {
          "base_uri": "https://localhost:8080/",
          "height": 36
        },
        "id": "PzNdrRJxw_8M",
        "outputId": "5408a375-a1b9-4840-ff8a-2a31fcfd361c"
      },
      "execution_count": null,
      "outputs": [
        {
          "output_type": "execute_result",
          "data": {
            "text/plain": [
              "'a'"
            ],
            "application/vnd.google.colaboratory.intrinsic+json": {
              "type": "string"
            }
          },
          "metadata": {},
          "execution_count": 11
        }
      ]
    },
    {
      "cell_type": "code",
      "source": [
        "for i in range(10):\n",
        "  AA = []\n",
        "  for j in range (i):\n",
        "    AA.append(loc[0:j])\n",
        "  la.append(AA)"
      ],
      "metadata": {
        "id": "ymiRxcqsxB62"
      },
      "execution_count": null,
      "outputs": []
    },
    {
      "cell_type": "code",
      "source": [
        "AA"
      ],
      "metadata": {
        "colab": {
          "base_uri": "https://localhost:8080/"
        },
        "id": "_JpTZ7oyxYWS",
        "outputId": "4a0cc1c2-3c64-486d-f07d-0fb4e3572cff"
      },
      "execution_count": null,
      "outputs": [
        {
          "output_type": "execute_result",
          "data": {
            "text/plain": [
              "[[],\n",
              " ['a'],\n",
              " ['a', 'b'],\n",
              " ['a', 'b', 'c'],\n",
              " ['a', 'b', 'c', 'd'],\n",
              " ['a', 'b', 'c', 'd', 'e'],\n",
              " ['a', 'b', 'c', 'd', 'e', 'f'],\n",
              " ['a', 'b', 'c', 'd', 'e', 'f', 'g'],\n",
              " ['a', 'b', 'c', 'd', 'e', 'f', 'g', 'h']]"
            ]
          },
          "metadata": {},
          "execution_count": 19
        }
      ]
    },
    {
      "cell_type": "markdown",
      "source": [
        "###Conditional Statement (if statement)"
      ],
      "metadata": {
        "id": "WYjzUq1G3ZvE"
      }
    },
    {
      "cell_type": "code",
      "source": [
        "if 1 < 5:\n",
        "  print('yes')"
      ],
      "metadata": {
        "colab": {
          "base_uri": "https://localhost:8080/"
        },
        "id": "pMJ8b4yj3hhT",
        "outputId": "2a90bd2c-b5b2-4bf1-9960-5f0de693326e"
      },
      "execution_count": null,
      "outputs": [
        {
          "output_type": "stream",
          "name": "stdout",
          "text": [
            "yes\n"
          ]
        }
      ]
    },
    {
      "cell_type": "code",
      "source": [
        "x =12\n",
        "if x < 5:\n",
        "  print('yes')"
      ],
      "metadata": {
        "id": "B7ac66I93tx6"
      },
      "execution_count": null,
      "outputs": []
    },
    {
      "cell_type": "code",
      "source": [
        "x = [1,4,-6,3,56,-48,33]\n",
        "min = x[0]\n",
        "for number in x:\n",
        "  if min > number:\n",
        "    min = number\n",
        "print(min)"
      ],
      "metadata": {
        "colab": {
          "base_uri": "https://localhost:8080/"
        },
        "id": "o8vUUqYN5QfO",
        "outputId": "e88581b4-7e7f-4890-f7e9-3ee7d19debf2"
      },
      "execution_count": null,
      "outputs": [
        {
          "output_type": "stream",
          "name": "stdout",
          "text": [
            "-48\n"
          ]
        }
      ]
    },
    {
      "cell_type": "code",
      "source": [
        "min = 100000000\n",
        "print(x)\n",
        "for i in x:\n",
        "  print(f'now i = {i}, min = {min}')\n",
        "  print('start codition')\n",
        "  if i < min:\n",
        "    print(f'i < min , update min --> {i}')\n",
        "    min = i\n",
        "  else:\n",
        "    print('i >= min, not update')\n",
        "  print('end condition, go to next i')\n",
        "\n",
        "print(min)"
      ],
      "metadata": {
        "colab": {
          "base_uri": "https://localhost:8080/"
        },
        "id": "9bRIa5FF6iSP",
        "outputId": "b39e1d0d-57e4-4a04-bc33-da9d14fbea47"
      },
      "execution_count": null,
      "outputs": [
        {
          "output_type": "stream",
          "name": "stdout",
          "text": [
            "[1, 4, -6, 3, 56, -48, 33]\n",
            "now i = 1, min = 100000000\n",
            "start codition\n",
            "i < min , update min --> 1\n",
            "end condition, go to next i\n",
            "now i = 4, min = 1\n",
            "start codition\n",
            "i >= min, not update\n",
            "end condition, go to next i\n",
            "now i = -6, min = 1\n",
            "start codition\n",
            "i < min , update min --> -6\n",
            "end condition, go to next i\n",
            "now i = 3, min = -6\n",
            "start codition\n",
            "i >= min, not update\n",
            "end condition, go to next i\n",
            "now i = 56, min = -6\n",
            "start codition\n",
            "i >= min, not update\n",
            "end condition, go to next i\n",
            "now i = -48, min = -6\n",
            "start codition\n",
            "i < min , update min --> -48\n",
            "end condition, go to next i\n",
            "now i = 33, min = -48\n",
            "start codition\n",
            "i >= min, not update\n",
            "end condition, go to next i\n",
            "-48\n"
          ]
        }
      ]
    },
    {
      "cell_type": "markdown",
      "source": [
        "##HW1\n",
        "sort tthe number in '''list_ex''' without using sorting function (only using if and for)"
      ],
      "metadata": {
        "id": "B8COX-MZ7tMP"
      }
    },
    {
      "cell_type": "code",
      "source": [
        "Ans = []\n",
        "list_ex = [1,5,9,-19,-2,0]\n",
        "\n",
        "max = list_ex[0]\n",
        "print(list_ex)\n",
        "for number in list_ex:\n",
        "    if max < number:\n",
        "      max = number\n",
        "    print(f'now max = {max} number = {number} max ---> {max} ')\n",
        "Ans.append(max)\n",
        "list_ex.remove(max)\n",
        "list2 = list_ex\n",
        "print(list2)\n",
        "max = list2[0]\n",
        "for number in list2:\n",
        "    if max < number:\n",
        "      max = number\n",
        "    print(f'now max = {max} number = {number} max ---> {max} ')\n",
        "Ans.append(max)\n",
        "list2.remove(max)\n",
        "list3 = list2\n",
        "\n",
        "print(list3)\n",
        "max = list3[0]\n",
        "for number in list3:\n",
        "    if max < number:\n",
        "      max = number\n",
        "    print(f'now max = {max} number = {number} max ---> {max} ')\n",
        "Ans.append(max)\n",
        "list3.remove(max)\n",
        "list4 = list3\n",
        "\n",
        "print(list4)\n",
        "max = list4[0]\n",
        "for number in list4:\n",
        "    if max < number:\n",
        "      max = number\n",
        "    print(f'now max = {max} number = {number} max ---> {max} ')\n",
        "Ans.append(max)\n",
        "list4.remove(max)\n",
        "list5 = list4\n",
        "\n",
        "print(list5)\n",
        "max = list5[0]\n",
        "for number in list5:\n",
        "    if max < number:\n",
        "      max = number\n",
        "    print(f'now max = {max} number = {number} max ---> {max} ')\n",
        "Ans.append(max)\n",
        "list5.remove(max)\n",
        "list6 = list5\n",
        "print(list6)\n",
        "max = list5[0]\n",
        "Ans.append(max)"
      ],
      "metadata": {
        "id": "PXQYWA6I8hzB",
        "colab": {
          "base_uri": "https://localhost:8080/"
        },
        "outputId": "18a4660f-48f0-46ae-994d-0320d4cf4782"
      },
      "execution_count": null,
      "outputs": [
        {
          "output_type": "stream",
          "name": "stdout",
          "text": [
            "[1, 5, 9, -19, -2, 0]\n",
            "now max = 1 number = 1 max ---> 1 \n",
            "now max = 5 number = 5 max ---> 5 \n",
            "now max = 9 number = 9 max ---> 9 \n",
            "now max = 9 number = -19 max ---> 9 \n",
            "now max = 9 number = -2 max ---> 9 \n",
            "now max = 9 number = 0 max ---> 9 \n",
            "[1, 5, -19, -2, 0]\n",
            "now max = 1 number = 1 max ---> 1 \n",
            "now max = 5 number = 5 max ---> 5 \n",
            "now max = 5 number = -19 max ---> 5 \n",
            "now max = 5 number = -2 max ---> 5 \n",
            "now max = 5 number = 0 max ---> 5 \n",
            "[1, -19, -2, 0]\n",
            "now max = 1 number = 1 max ---> 1 \n",
            "now max = 1 number = -19 max ---> 1 \n",
            "now max = 1 number = -2 max ---> 1 \n",
            "now max = 1 number = 0 max ---> 1 \n",
            "[-19, -2, 0]\n",
            "now max = -19 number = -19 max ---> -19 \n",
            "now max = -2 number = -2 max ---> -2 \n",
            "now max = 0 number = 0 max ---> 0 \n",
            "[-19, -2]\n",
            "now max = -19 number = -19 max ---> -19 \n",
            "now max = -2 number = -2 max ---> -2 \n",
            "[-19]\n"
          ]
        }
      ]
    },
    {
      "cell_type": "code",
      "source": [
        "print(Ans)"
      ],
      "metadata": {
        "colab": {
          "base_uri": "https://localhost:8080/"
        },
        "id": "P9u8MW_e8_HU",
        "outputId": "d4686681-0f92-494d-9a68-81c6212bee16"
      },
      "execution_count": null,
      "outputs": [
        {
          "output_type": "stream",
          "name": "stdout",
          "text": [
            "[9, 5, 1, 0, -2, -19]\n"
          ]
        }
      ]
    },
    {
      "cell_type": "code",
      "source": [
        "def find_max (list_ex):\n",
        "  max = list_ex[0]\n",
        "  for x in list_ex:\n",
        "    if x > max:\n",
        "      max = x\n",
        "  return max"
      ],
      "metadata": {
        "id": "5KONXfSa_L6s"
      },
      "execution_count": null,
      "outputs": []
    },
    {
      "cell_type": "code",
      "source": [
        "def sort_max2min(list_ex):\n",
        "  Ans = []\n",
        "  print(list_ex)\n",
        "  max = find_max(list_ex)\n",
        "  Ans.append(max)\n",
        "  list_ex.remove(max)\n",
        "  list2 = list_ex\n",
        "  print(list2)\n",
        "  max = find_max(list2)\n",
        "  Ans.append(max)\n",
        "  list2.remove(max)\n",
        "  list3 = list2\n",
        "  print(list3)\n",
        "  max = find_max(list3)\n",
        "  Ans.append(max)\n",
        "  list3.remove(max)\n",
        "  list4 = list3\n",
        "  print(list4)\n",
        "  max = find_max(list4)\n",
        "  Ans.append(max)\n",
        "  list4.remove(max)\n",
        "  list5 = list4\n",
        "  print(list5)\n",
        "  max = find_max(list5)\n",
        "  Ans.append(max)\n",
        "  list5.remove(max)\n",
        "  list6 = list5\n",
        "  print(list6)\n",
        "  max = list5[0]\n",
        "  Ans.append(max)\n",
        "  return Ans"
      ],
      "metadata": {
        "id": "5-vHwFnWBsK_"
      },
      "execution_count": null,
      "outputs": []
    },
    {
      "cell_type": "code",
      "source": [
        "list_ex = [1,5,9,-19,-2,0]\n",
        "Ans = sort_max2min(list_ex)"
      ],
      "metadata": {
        "colab": {
          "base_uri": "https://localhost:8080/"
        },
        "id": "AqiUB3KODeQs",
        "outputId": "7ef4fbfe-06df-4360-d739-4e31f4cda1fc"
      },
      "execution_count": null,
      "outputs": [
        {
          "output_type": "stream",
          "name": "stdout",
          "text": [
            "[1, 5, 9, -19, -2, 0]\n",
            "[1, 5, -19, -2, 0]\n",
            "[1, -19, -2, 0]\n",
            "[-19, -2, 0]\n",
            "[-19, -2]\n",
            "[-19]\n"
          ]
        }
      ]
    },
    {
      "cell_type": "code",
      "source": [
        "print(Ans)"
      ],
      "metadata": {
        "colab": {
          "base_uri": "https://localhost:8080/"
        },
        "id": "6RsfZddXB2i2",
        "outputId": "726d978a-669b-42e6-c7f8-2e391a311836"
      },
      "execution_count": null,
      "outputs": [
        {
          "output_type": "stream",
          "name": "stdout",
          "text": [
            "[9, 5, 1, 0, -2, -19]\n"
          ]
        }
      ]
    },
    {
      "cell_type": "markdown",
      "source": [
        "## HW 2\n",
        " 1.create a function that sort a list and you\n",
        " 2.can specify to the function that to sort it assemding or descending\n",
        " 3.have 2 argurment one default"
      ],
      "metadata": {
        "id": "HgmjOoqjG6qc"
      }
    },
    {
      "cell_type": "code",
      "source": [],
      "metadata": {
        "id": "Jw4B8-YSG5iY"
      },
      "execution_count": null,
      "outputs": []
    }
  ]
}