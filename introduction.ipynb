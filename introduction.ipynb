{
  "nbformat": 4,
  "nbformat_minor": 0,
  "metadata": {
    "colab": {
      "provenance": [],
      "authorship_tag": "ABX9TyOOy1u83M0elOoEXxP6i+JY",
      "include_colab_link": true
    },
    "kernelspec": {
      "name": "python3",
      "display_name": "Python 3"
    },
    "language_info": {
      "name": "python"
    }
  },
  "cells": [
    {
      "cell_type": "markdown",
      "metadata": {
        "id": "view-in-github",
        "colab_type": "text"
      },
      "source": [
        "<a href=\"https://colab.research.google.com/github/chin0104/DPDM2023/blob/main/introduction.ipynb\" target=\"_parent\"><img src=\"https://colab.research.google.com/assets/colab-badge.svg\" alt=\"Open In Colab\"/></a>"
      ]
    },
    {
      "cell_type": "code",
      "source": [],
      "metadata": {
        "id": "AtZpvXWCprA4"
      },
      "execution_count": null,
      "outputs": []
    },
    {
      "cell_type": "markdown",
      "source": [
        "#This is the introduction section\n",
        "## My name is Chirat\n"
      ],
      "metadata": {
        "id": "PW5L2eyIqy1m"
      }
    },
    {
      "cell_type": "code",
      "source": [
        "print('KKU')"
      ],
      "metadata": {
        "colab": {
          "base_uri": "https://localhost:8080/"
        },
        "id": "MtO_CdWpq8td",
        "outputId": "8250ab7d-4ca6-4805-89a1-cae354a8f4c9"
      },
      "execution_count": null,
      "outputs": [
        {
          "output_type": "stream",
          "name": "stdout",
          "text": [
            "KKU\n"
          ]
        }
      ]
    },
    {
      "cell_type": "code",
      "source": [
        "a = 5\n",
        "b = 2*a\n",
        "print(b)"
      ],
      "metadata": {
        "colab": {
          "base_uri": "https://localhost:8080/"
        },
        "id": "l8HGHPQNs0iN",
        "outputId": "d5e9b8ee-3a88-473e-b100-19dee0c223bd"
      },
      "execution_count": null,
      "outputs": [
        {
          "output_type": "stream",
          "name": "stdout",
          "text": [
            "10\n"
          ]
        }
      ]
    },
    {
      "cell_type": "markdown",
      "source": [
        "# New Section"
      ],
      "metadata": {
        "id": "YKumoijnrEBd"
      }
    },
    {
      "cell_type": "code",
      "source": [
        "print('stat')"
      ],
      "metadata": {
        "id": "SvOjFBpA9XaQ",
        "outputId": "45b09bbf-bcce-4b44-ce5d-4648e5846859",
        "colab": {
          "base_uri": "https://localhost:8080/"
        }
      },
      "execution_count": 1,
      "outputs": [
        {
          "output_type": "stream",
          "name": "stdout",
          "text": [
            "stat\n"
          ]
        }
      ]
    },
    {
      "cell_type": "code",
      "source": [
        "print('stat','KKU')"
      ],
      "metadata": {
        "id": "QUhK_Pcw9fO9",
        "outputId": "7669271e-7811-44bb-878c-7c0a2e96bcc9",
        "colab": {
          "base_uri": "https://localhost:8080/"
        }
      },
      "execution_count": 2,
      "outputs": [
        {
          "output_type": "stream",
          "name": "stdout",
          "text": [
            "stat KKU\n"
          ]
        }
      ]
    },
    {
      "cell_type": "code",
      "source": [
        "print('stat','KKU',sep = '/')"
      ],
      "metadata": {
        "id": "y4Q3fgh59qTG",
        "outputId": "ec2d3fcb-ce5e-4057-a11b-1845bb21e394",
        "colab": {
          "base_uri": "https://localhost:8080/"
        }
      },
      "execution_count": 3,
      "outputs": [
        {
          "output_type": "stream",
          "name": "stdout",
          "text": [
            "stat/KKU\n"
          ]
        }
      ]
    },
    {
      "cell_type": "code",
      "source": [
        "print('stat','KKU',sep = '|')"
      ],
      "metadata": {
        "id": "mdBlVwLr-GUc",
        "outputId": "f1213dab-8fed-4630-92a0-6c6330519249",
        "colab": {
          "base_uri": "https://localhost:8080/"
        }
      },
      "execution_count": 4,
      "outputs": [
        {
          "output_type": "stream",
          "name": "stdout",
          "text": [
            "stat|KKU\n"
          ]
        }
      ]
    },
    {
      "cell_type": "code",
      "source": [
        "print('Stat')\n",
        "print('KKU')"
      ],
      "metadata": {
        "id": "6ZGUeVMH-Nhm",
        "outputId": "6ad0203e-2938-48f1-9b1a-4825d9c6084f",
        "colab": {
          "base_uri": "https://localhost:8080/"
        }
      },
      "execution_count": 6,
      "outputs": [
        {
          "output_type": "stream",
          "name": "stdout",
          "text": [
            "Stat\n",
            "KKU\n"
          ]
        }
      ]
    },
    {
      "cell_type": "code",
      "source": [
        "print('Stat',end = '+-+')\n",
        "print('KKU')"
      ],
      "metadata": {
        "id": "nGOw1nEJ-NjT",
        "outputId": "c6c76d77-e5d2-47d8-dfb0-8687b58784bc",
        "colab": {
          "base_uri": "https://localhost:8080/"
        }
      },
      "execution_count": 7,
      "outputs": [
        {
          "output_type": "stream",
          "name": "stdout",
          "text": [
            "Stat+-+KKU\n"
          ]
        }
      ]
    },
    {
      "cell_type": "code",
      "source": [],
      "metadata": {
        "id": "vGyNGCpM_CvK"
      },
      "execution_count": null,
      "outputs": []
    },
    {
      "cell_type": "markdown",
      "source": [
        "Variable types"
      ],
      "metadata": {
        "id": "_fHMenu4_cOX"
      }
    },
    {
      "cell_type": "markdown",
      "source": [],
      "metadata": {
        "id": "sXPgeynI_cP2"
      }
    },
    {
      "cell_type": "code",
      "source": [
        "a = 'C'\n",
        "b = 'harater'"
      ],
      "metadata": {
        "id": "0AEyUHq__iXx"
      },
      "execution_count": 8,
      "outputs": []
    },
    {
      "cell_type": "code",
      "source": [
        "print(f'a = {a} b = [b], then {a}+{b} = {a+b}')"
      ],
      "metadata": {
        "id": "6YnCB5gg_iZT",
        "outputId": "0c7119e4-564c-422f-f6c5-ff3985776ad7",
        "colab": {
          "base_uri": "https://localhost:8080/"
        }
      },
      "execution_count": 9,
      "outputs": [
        {
          "output_type": "stream",
          "name": "stdout",
          "text": [
            "a = C b = [b], then C+harater = Charater\n"
          ]
        }
      ]
    },
    {
      "cell_type": "code",
      "source": [
        "A = 'c'\n",
        "B = 'a'\n",
        "print(A+B)"
      ],
      "metadata": {
        "id": "jW0hbXXUAAoP",
        "outputId": "67860064-5507-4eb3-991a-ec8837e3d579",
        "colab": {
          "base_uri": "https://localhost:8080/"
        }
      },
      "execution_count": 11,
      "outputs": [
        {
          "output_type": "stream",
          "name": "stdout",
          "text": [
            "ca\n"
          ]
        }
      ]
    },
    {
      "cell_type": "code",
      "source": [
        "print(5*'T')"
      ],
      "metadata": {
        "id": "QWuUgY6GAKie",
        "outputId": "e7539a6f-abec-4d75-cf75-c0d127b2f821",
        "colab": {
          "base_uri": "https://localhost:8080/"
        }
      },
      "execution_count": 12,
      "outputs": [
        {
          "output_type": "stream",
          "name": "stdout",
          "text": [
            "TTTTT\n"
          ]
        }
      ]
    },
    {
      "cell_type": "markdown",
      "source": [
        "Quiz 1"
      ],
      "metadata": {
        "id": "G2f8lGj1B2SM"
      }
    },
    {
      "cell_type": "code",
      "source": [
        "print(100*'Ha-')"
      ],
      "metadata": {
        "id": "B_PV8_cUBP_Q",
        "outputId": "5af065f2-6e54-47a9-88c6-e319d4bf2a34",
        "colab": {
          "base_uri": "https://localhost:8080/"
        }
      },
      "execution_count": 14,
      "outputs": [
        {
          "output_type": "stream",
          "name": "stdout",
          "text": [
            "Ha-Ha-Ha-Ha-Ha-Ha-Ha-Ha-Ha-Ha-Ha-Ha-Ha-Ha-Ha-Ha-Ha-Ha-Ha-Ha-Ha-Ha-Ha-Ha-Ha-Ha-Ha-Ha-Ha-Ha-Ha-Ha-Ha-Ha-Ha-Ha-Ha-Ha-Ha-Ha-Ha-Ha-Ha-Ha-Ha-Ha-Ha-Ha-Ha-Ha-Ha-Ha-Ha-Ha-Ha-Ha-Ha-Ha-Ha-Ha-Ha-Ha-Ha-Ha-Ha-Ha-Ha-Ha-Ha-Ha-Ha-Ha-Ha-Ha-Ha-Ha-Ha-Ha-Ha-Ha-Ha-Ha-Ha-Ha-Ha-Ha-Ha-Ha-Ha-Ha-Ha-Ha-Ha-Ha-Ha-Ha-Ha-Ha-Ha-Ha-\n"
          ]
        }
      ]
    },
    {
      "cell_type": "code",
      "source": [],
      "metadata": {
        "id": "QHaUQJjVBqhK"
      },
      "execution_count": null,
      "outputs": []
    }
  ]
}