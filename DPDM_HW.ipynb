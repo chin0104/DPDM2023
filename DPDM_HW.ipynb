{
  "nbformat": 4,
  "nbformat_minor": 0,
  "metadata": {
    "colab": {
      "provenance": [],
      "toc_visible": true,
      "authorship_tag": "ABX9TyNtDaWuLpjpbZm6dZZulBV6",
      "include_colab_link": true
    },
    "kernelspec": {
      "name": "python3",
      "display_name": "Python 3"
    },
    "language_info": {
      "name": "python"
    }
  },
  "cells": [
    {
      "cell_type": "markdown",
      "metadata": {
        "id": "view-in-github",
        "colab_type": "text"
      },
      "source": [
        "<a href=\"https://colab.research.google.com/github/chin0104/DPDM2023/blob/main/DPDM_HW.ipynb\" target=\"_parent\"><img src=\"https://colab.research.google.com/assets/colab-badge.svg\" alt=\"Open In Colab\"/></a>"
      ]
    },
    {
      "cell_type": "markdown",
      "source": [
        "#import"
      ],
      "metadata": {
        "id": "20Mi-ivWCfuF"
      }
    },
    {
      "cell_type": "code",
      "source": [
        "import pandas as pd\n",
        "from matplotlib import pyplot as plt\n",
        "import numpy as np"
      ],
      "metadata": {
        "id": "a-plU0byLLx1"
      },
      "execution_count": 1,
      "outputs": []
    },
    {
      "cell_type": "markdown",
      "source": [
        "#HW1\n"
      ],
      "metadata": {
        "id": "pt3dsWPMAU96"
      }
    },
    {
      "cell_type": "code",
      "execution_count": null,
      "metadata": {
        "id": "dAAgvJmT84B4"
      },
      "outputs": [],
      "source": [
        "def find_max (list_ex):\n",
        "  max = list_ex[0]\n",
        "  for x in list_ex:\n",
        "    if x > max:\n",
        "      max = x\n",
        "  return max"
      ]
    },
    {
      "cell_type": "code",
      "source": [
        "def sort_max2min(list_ex):\n",
        "  Ans = []\n",
        "  print(list_ex)\n",
        "  max = find_max(list_ex)\n",
        "  Ans.append(max)\n",
        "  list_ex.remove(max)\n",
        "  list2 = list_ex\n",
        "  print(list2)\n",
        "  max = find_max(list2)\n",
        "  Ans.append(max)\n",
        "  list2.remove(max)\n",
        "  list3 = list2\n",
        "  print(list3)\n",
        "  max = find_max(list3)\n",
        "  Ans.append(max)\n",
        "  list3.remove(max)\n",
        "  list4 = list3\n",
        "  print(list4)\n",
        "  max = find_max(list4)\n",
        "  Ans.append(max)\n",
        "  list4.remove(max)\n",
        "  list5 = list4\n",
        "  print(list5)\n",
        "  max = find_max(list5)\n",
        "  Ans.append(max)\n",
        "  list5.remove(max)\n",
        "  list6 = list5\n",
        "  print(list6)\n",
        "  max = list5[0]\n",
        "  Ans.append(max)\n",
        "  return Ans"
      ],
      "metadata": {
        "id": "pVD3pQcGAcXz"
      },
      "execution_count": null,
      "outputs": []
    },
    {
      "cell_type": "code",
      "source": [
        "list_ex = [1,5,9,-19,-2,0]\n",
        "Ans = sort_max2min(list_ex)\n",
        "print(Ans)"
      ],
      "metadata": {
        "colab": {
          "base_uri": "https://localhost:8080/"
        },
        "id": "DNfd7IvYAf8z",
        "outputId": "83522d02-5588-4123-83d7-397b9ba41f1d"
      },
      "execution_count": null,
      "outputs": [
        {
          "output_type": "stream",
          "name": "stdout",
          "text": [
            "[1, 5, 9, -19, -2, 0]\n",
            "[1, 5, -19, -2, 0]\n",
            "[1, -19, -2, 0]\n",
            "[-19, -2, 0]\n",
            "[-19, -2]\n",
            "[-19]\n",
            "[9, 5, 1, 0, -2, -19]\n"
          ]
        }
      ]
    },
    {
      "cell_type": "markdown",
      "source": [
        "#HW2"
      ],
      "metadata": {
        "id": "O1V1VVG9AtPj"
      }
    },
    {
      "cell_type": "code",
      "source": [
        "list = [1,5,9,-19,-2,0]"
      ],
      "metadata": {
        "id": "S3ZhhpJrAu7R"
      },
      "execution_count": 109,
      "outputs": []
    },
    {
      "cell_type": "code",
      "source": [
        "list.sort()"
      ],
      "metadata": {
        "id": "ZGiKNvZQumtH"
      },
      "execution_count": 110,
      "outputs": []
    },
    {
      "cell_type": "code",
      "source": [
        "def msort(list,x):\n",
        "  if x == 0:\n",
        "    list.sort(reverse=False)\n",
        "  else:\n",
        "    list.sort(reverse=True)\n",
        "  return list"
      ],
      "metadata": {
        "id": "mACXpSRLvG6K"
      },
      "execution_count": null,
      "outputs": []
    },
    {
      "cell_type": "code",
      "source": [
        "list"
      ],
      "metadata": {
        "colab": {
          "base_uri": "https://localhost:8080/"
        },
        "id": "wK4s0bs4up7W",
        "outputId": "c5442a7c-9d14-4e8e-cf58-07c79979d324"
      },
      "execution_count": null,
      "outputs": [
        {
          "output_type": "execute_result",
          "data": {
            "text/plain": [
              "[-19, -2, 0, 1, 5, 9]"
            ]
          },
          "metadata": {},
          "execution_count": 8
        }
      ]
    },
    {
      "cell_type": "code",
      "source": [
        "list.sort(reverse = True)"
      ],
      "metadata": {
        "id": "GDOpfW5Rusu8"
      },
      "execution_count": null,
      "outputs": []
    },
    {
      "cell_type": "code",
      "source": [
        "list"
      ],
      "metadata": {
        "colab": {
          "base_uri": "https://localhost:8080/"
        },
        "id": "B7_DZ5U0vSMT",
        "outputId": "424344ca-d63b-4c8f-eaa7-16f9f2691c90"
      },
      "execution_count": null,
      "outputs": [
        {
          "output_type": "execute_result",
          "data": {
            "text/plain": [
              "[9, 5, 1, 0, -2, -19]"
            ]
          },
          "metadata": {},
          "execution_count": 10
        }
      ]
    },
    {
      "cell_type": "code",
      "source": [
        "sort(list,0)"
      ],
      "metadata": {
        "colab": {
          "base_uri": "https://localhost:8080/"
        },
        "id": "Eg0755rmvUx9",
        "outputId": "3caf8e23-8a4c-4f51-fdb2-d0cdf615eb60"
      },
      "execution_count": null,
      "outputs": [
        {
          "output_type": "execute_result",
          "data": {
            "text/plain": [
              "[-19, -2, 0, 1, 5, 9]"
            ]
          },
          "metadata": {},
          "execution_count": 11
        }
      ]
    },
    {
      "cell_type": "code",
      "source": [
        "sort(list,1)"
      ],
      "metadata": {
        "colab": {
          "base_uri": "https://localhost:8080/"
        },
        "id": "HzKANdfcu2Uy",
        "outputId": "cdd3246e-012e-46f8-e033-365912bbf104"
      },
      "execution_count": null,
      "outputs": [
        {
          "output_type": "execute_result",
          "data": {
            "text/plain": [
              "[9, 5, 1, 0, -2, -19]"
            ]
          },
          "metadata": {},
          "execution_count": 12
        }
      ]
    },
    {
      "cell_type": "markdown",
      "source": [
        "#HW3"
      ],
      "metadata": {
        "id": "lpzCIiHgAzxD"
      }
    },
    {
      "cell_type": "markdown",
      "source": [
        "จำนวนเด็กที่ได้รับเงินอุดหนุนเพื่อการเลี้ยงดูเด็กแรกเกิดใน กทม. ปี 2565"
      ],
      "metadata": {
        "id": "Kofcqxv9HWwB"
      }
    },
    {
      "cell_type": "markdown",
      "source": [
        "number_of_register = จำนวนผู้ลงทะเบียน\n",
        "\n",
        "number_of_eligible = จำนวนผู้มีสิทธิ\n",
        "\n",
        "number_of_payee = จำนวนผู้ได้รับเงิน"
      ],
      "metadata": {
        "id": "6GFgwAuRHgUN"
      }
    },
    {
      "cell_type": "markdown",
      "source": [
        "form https://data.bangkok.go.th/dataset/soc_626208de02ea4/resource/419fec15-a47c-4e8d-a08d-fa33604263ab"
      ],
      "metadata": {
        "id": "THc9At7OGUBW"
      }
    },
    {
      "cell_type": "code",
      "source": [
        "data = pd.read_csv('/content/10.-2565.csv')\n",
        "data"
      ],
      "metadata": {
        "id": "UNvf-JHEA1yT",
        "colab": {
          "base_uri": "https://localhost:8080/",
          "height": 357
        },
        "outputId": "f3fd8233-cd73-4145-e402-9f92f4c487e8"
      },
      "execution_count": null,
      "outputs": [
        {
          "output_type": "error",
          "ename": "FileNotFoundError",
          "evalue": "ignored",
          "traceback": [
            "\u001b[0;31m---------------------------------------------------------------------------\u001b[0m",
            "\u001b[0;31mFileNotFoundError\u001b[0m                         Traceback (most recent call last)",
            "\u001b[0;32m<ipython-input-13-f3991a0c9f66>\u001b[0m in \u001b[0;36m<cell line: 1>\u001b[0;34m()\u001b[0m\n\u001b[0;32m----> 1\u001b[0;31m \u001b[0mdata\u001b[0m \u001b[0;34m=\u001b[0m \u001b[0mpd\u001b[0m\u001b[0;34m.\u001b[0m\u001b[0mread_csv\u001b[0m\u001b[0;34m(\u001b[0m\u001b[0;34m'/content/10.-2565.csv'\u001b[0m\u001b[0;34m)\u001b[0m\u001b[0;34m\u001b[0m\u001b[0;34m\u001b[0m\u001b[0m\n\u001b[0m\u001b[1;32m      2\u001b[0m \u001b[0mdata\u001b[0m\u001b[0;34m\u001b[0m\u001b[0;34m\u001b[0m\u001b[0m\n",
            "\u001b[0;32m/usr/local/lib/python3.10/dist-packages/pandas/util/_decorators.py\u001b[0m in \u001b[0;36mwrapper\u001b[0;34m(*args, **kwargs)\u001b[0m\n\u001b[1;32m    209\u001b[0m                 \u001b[0;32melse\u001b[0m\u001b[0;34m:\u001b[0m\u001b[0;34m\u001b[0m\u001b[0;34m\u001b[0m\u001b[0m\n\u001b[1;32m    210\u001b[0m                     \u001b[0mkwargs\u001b[0m\u001b[0;34m[\u001b[0m\u001b[0mnew_arg_name\u001b[0m\u001b[0;34m]\u001b[0m \u001b[0;34m=\u001b[0m \u001b[0mnew_arg_value\u001b[0m\u001b[0;34m\u001b[0m\u001b[0;34m\u001b[0m\u001b[0m\n\u001b[0;32m--> 211\u001b[0;31m             \u001b[0;32mreturn\u001b[0m \u001b[0mfunc\u001b[0m\u001b[0;34m(\u001b[0m\u001b[0;34m*\u001b[0m\u001b[0margs\u001b[0m\u001b[0;34m,\u001b[0m \u001b[0;34m**\u001b[0m\u001b[0mkwargs\u001b[0m\u001b[0;34m)\u001b[0m\u001b[0;34m\u001b[0m\u001b[0;34m\u001b[0m\u001b[0m\n\u001b[0m\u001b[1;32m    212\u001b[0m \u001b[0;34m\u001b[0m\u001b[0m\n\u001b[1;32m    213\u001b[0m         \u001b[0;32mreturn\u001b[0m \u001b[0mcast\u001b[0m\u001b[0;34m(\u001b[0m\u001b[0mF\u001b[0m\u001b[0;34m,\u001b[0m \u001b[0mwrapper\u001b[0m\u001b[0;34m)\u001b[0m\u001b[0;34m\u001b[0m\u001b[0;34m\u001b[0m\u001b[0m\n",
            "\u001b[0;32m/usr/local/lib/python3.10/dist-packages/pandas/util/_decorators.py\u001b[0m in \u001b[0;36mwrapper\u001b[0;34m(*args, **kwargs)\u001b[0m\n\u001b[1;32m    329\u001b[0m                     \u001b[0mstacklevel\u001b[0m\u001b[0;34m=\u001b[0m\u001b[0mfind_stack_level\u001b[0m\u001b[0;34m(\u001b[0m\u001b[0;34m)\u001b[0m\u001b[0;34m,\u001b[0m\u001b[0;34m\u001b[0m\u001b[0;34m\u001b[0m\u001b[0m\n\u001b[1;32m    330\u001b[0m                 )\n\u001b[0;32m--> 331\u001b[0;31m             \u001b[0;32mreturn\u001b[0m \u001b[0mfunc\u001b[0m\u001b[0;34m(\u001b[0m\u001b[0;34m*\u001b[0m\u001b[0margs\u001b[0m\u001b[0;34m,\u001b[0m \u001b[0;34m**\u001b[0m\u001b[0mkwargs\u001b[0m\u001b[0;34m)\u001b[0m\u001b[0;34m\u001b[0m\u001b[0;34m\u001b[0m\u001b[0m\n\u001b[0m\u001b[1;32m    332\u001b[0m \u001b[0;34m\u001b[0m\u001b[0m\n\u001b[1;32m    333\u001b[0m         \u001b[0;31m# error: \"Callable[[VarArg(Any), KwArg(Any)], Any]\" has no\u001b[0m\u001b[0;34m\u001b[0m\u001b[0;34m\u001b[0m\u001b[0m\n",
            "\u001b[0;32m/usr/local/lib/python3.10/dist-packages/pandas/io/parsers/readers.py\u001b[0m in \u001b[0;36mread_csv\u001b[0;34m(filepath_or_buffer, sep, delimiter, header, names, index_col, usecols, squeeze, prefix, mangle_dupe_cols, dtype, engine, converters, true_values, false_values, skipinitialspace, skiprows, skipfooter, nrows, na_values, keep_default_na, na_filter, verbose, skip_blank_lines, parse_dates, infer_datetime_format, keep_date_col, date_parser, dayfirst, cache_dates, iterator, chunksize, compression, thousands, decimal, lineterminator, quotechar, quoting, doublequote, escapechar, comment, encoding, encoding_errors, dialect, error_bad_lines, warn_bad_lines, on_bad_lines, delim_whitespace, low_memory, memory_map, float_precision, storage_options)\u001b[0m\n\u001b[1;32m    948\u001b[0m     \u001b[0mkwds\u001b[0m\u001b[0;34m.\u001b[0m\u001b[0mupdate\u001b[0m\u001b[0;34m(\u001b[0m\u001b[0mkwds_defaults\u001b[0m\u001b[0;34m)\u001b[0m\u001b[0;34m\u001b[0m\u001b[0;34m\u001b[0m\u001b[0m\n\u001b[1;32m    949\u001b[0m \u001b[0;34m\u001b[0m\u001b[0m\n\u001b[0;32m--> 950\u001b[0;31m     \u001b[0;32mreturn\u001b[0m \u001b[0m_read\u001b[0m\u001b[0;34m(\u001b[0m\u001b[0mfilepath_or_buffer\u001b[0m\u001b[0;34m,\u001b[0m \u001b[0mkwds\u001b[0m\u001b[0;34m)\u001b[0m\u001b[0;34m\u001b[0m\u001b[0;34m\u001b[0m\u001b[0m\n\u001b[0m\u001b[1;32m    951\u001b[0m \u001b[0;34m\u001b[0m\u001b[0m\n\u001b[1;32m    952\u001b[0m \u001b[0;34m\u001b[0m\u001b[0m\n",
            "\u001b[0;32m/usr/local/lib/python3.10/dist-packages/pandas/io/parsers/readers.py\u001b[0m in \u001b[0;36m_read\u001b[0;34m(filepath_or_buffer, kwds)\u001b[0m\n\u001b[1;32m    603\u001b[0m \u001b[0;34m\u001b[0m\u001b[0m\n\u001b[1;32m    604\u001b[0m     \u001b[0;31m# Create the parser.\u001b[0m\u001b[0;34m\u001b[0m\u001b[0;34m\u001b[0m\u001b[0m\n\u001b[0;32m--> 605\u001b[0;31m     \u001b[0mparser\u001b[0m \u001b[0;34m=\u001b[0m \u001b[0mTextFileReader\u001b[0m\u001b[0;34m(\u001b[0m\u001b[0mfilepath_or_buffer\u001b[0m\u001b[0;34m,\u001b[0m \u001b[0;34m**\u001b[0m\u001b[0mkwds\u001b[0m\u001b[0;34m)\u001b[0m\u001b[0;34m\u001b[0m\u001b[0;34m\u001b[0m\u001b[0m\n\u001b[0m\u001b[1;32m    606\u001b[0m \u001b[0;34m\u001b[0m\u001b[0m\n\u001b[1;32m    607\u001b[0m     \u001b[0;32mif\u001b[0m \u001b[0mchunksize\u001b[0m \u001b[0;32mor\u001b[0m \u001b[0miterator\u001b[0m\u001b[0;34m:\u001b[0m\u001b[0;34m\u001b[0m\u001b[0;34m\u001b[0m\u001b[0m\n",
            "\u001b[0;32m/usr/local/lib/python3.10/dist-packages/pandas/io/parsers/readers.py\u001b[0m in \u001b[0;36m__init__\u001b[0;34m(self, f, engine, **kwds)\u001b[0m\n\u001b[1;32m   1440\u001b[0m \u001b[0;34m\u001b[0m\u001b[0m\n\u001b[1;32m   1441\u001b[0m         \u001b[0mself\u001b[0m\u001b[0;34m.\u001b[0m\u001b[0mhandles\u001b[0m\u001b[0;34m:\u001b[0m \u001b[0mIOHandles\u001b[0m \u001b[0;34m|\u001b[0m \u001b[0;32mNone\u001b[0m \u001b[0;34m=\u001b[0m \u001b[0;32mNone\u001b[0m\u001b[0;34m\u001b[0m\u001b[0;34m\u001b[0m\u001b[0m\n\u001b[0;32m-> 1442\u001b[0;31m         \u001b[0mself\u001b[0m\u001b[0;34m.\u001b[0m\u001b[0m_engine\u001b[0m \u001b[0;34m=\u001b[0m \u001b[0mself\u001b[0m\u001b[0;34m.\u001b[0m\u001b[0m_make_engine\u001b[0m\u001b[0;34m(\u001b[0m\u001b[0mf\u001b[0m\u001b[0;34m,\u001b[0m \u001b[0mself\u001b[0m\u001b[0;34m.\u001b[0m\u001b[0mengine\u001b[0m\u001b[0;34m)\u001b[0m\u001b[0;34m\u001b[0m\u001b[0;34m\u001b[0m\u001b[0m\n\u001b[0m\u001b[1;32m   1443\u001b[0m \u001b[0;34m\u001b[0m\u001b[0m\n\u001b[1;32m   1444\u001b[0m     \u001b[0;32mdef\u001b[0m \u001b[0mclose\u001b[0m\u001b[0;34m(\u001b[0m\u001b[0mself\u001b[0m\u001b[0;34m)\u001b[0m \u001b[0;34m->\u001b[0m \u001b[0;32mNone\u001b[0m\u001b[0;34m:\u001b[0m\u001b[0;34m\u001b[0m\u001b[0;34m\u001b[0m\u001b[0m\n",
            "\u001b[0;32m/usr/local/lib/python3.10/dist-packages/pandas/io/parsers/readers.py\u001b[0m in \u001b[0;36m_make_engine\u001b[0;34m(self, f, engine)\u001b[0m\n\u001b[1;32m   1733\u001b[0m                 \u001b[0;32mif\u001b[0m \u001b[0;34m\"b\"\u001b[0m \u001b[0;32mnot\u001b[0m \u001b[0;32min\u001b[0m \u001b[0mmode\u001b[0m\u001b[0;34m:\u001b[0m\u001b[0;34m\u001b[0m\u001b[0;34m\u001b[0m\u001b[0m\n\u001b[1;32m   1734\u001b[0m                     \u001b[0mmode\u001b[0m \u001b[0;34m+=\u001b[0m \u001b[0;34m\"b\"\u001b[0m\u001b[0;34m\u001b[0m\u001b[0;34m\u001b[0m\u001b[0m\n\u001b[0;32m-> 1735\u001b[0;31m             self.handles = get_handle(\n\u001b[0m\u001b[1;32m   1736\u001b[0m                 \u001b[0mf\u001b[0m\u001b[0;34m,\u001b[0m\u001b[0;34m\u001b[0m\u001b[0;34m\u001b[0m\u001b[0m\n\u001b[1;32m   1737\u001b[0m                 \u001b[0mmode\u001b[0m\u001b[0;34m,\u001b[0m\u001b[0;34m\u001b[0m\u001b[0;34m\u001b[0m\u001b[0m\n",
            "\u001b[0;32m/usr/local/lib/python3.10/dist-packages/pandas/io/common.py\u001b[0m in \u001b[0;36mget_handle\u001b[0;34m(path_or_buf, mode, encoding, compression, memory_map, is_text, errors, storage_options)\u001b[0m\n\u001b[1;32m    854\u001b[0m         \u001b[0;32mif\u001b[0m \u001b[0mioargs\u001b[0m\u001b[0;34m.\u001b[0m\u001b[0mencoding\u001b[0m \u001b[0;32mand\u001b[0m \u001b[0;34m\"b\"\u001b[0m \u001b[0;32mnot\u001b[0m \u001b[0;32min\u001b[0m \u001b[0mioargs\u001b[0m\u001b[0;34m.\u001b[0m\u001b[0mmode\u001b[0m\u001b[0;34m:\u001b[0m\u001b[0;34m\u001b[0m\u001b[0;34m\u001b[0m\u001b[0m\n\u001b[1;32m    855\u001b[0m             \u001b[0;31m# Encoding\u001b[0m\u001b[0;34m\u001b[0m\u001b[0;34m\u001b[0m\u001b[0m\n\u001b[0;32m--> 856\u001b[0;31m             handle = open(\n\u001b[0m\u001b[1;32m    857\u001b[0m                 \u001b[0mhandle\u001b[0m\u001b[0;34m,\u001b[0m\u001b[0;34m\u001b[0m\u001b[0;34m\u001b[0m\u001b[0m\n\u001b[1;32m    858\u001b[0m                 \u001b[0mioargs\u001b[0m\u001b[0;34m.\u001b[0m\u001b[0mmode\u001b[0m\u001b[0;34m,\u001b[0m\u001b[0;34m\u001b[0m\u001b[0;34m\u001b[0m\u001b[0m\n",
            "\u001b[0;31mFileNotFoundError\u001b[0m: [Errno 2] No such file or directory: '/content/10.-2565.csv'"
          ]
        }
      ]
    },
    {
      "cell_type": "code",
      "source": [
        "data.head()"
      ],
      "metadata": {
        "id": "Bi3BISHZIbtC"
      },
      "execution_count": null,
      "outputs": []
    },
    {
      "cell_type": "code",
      "source": [
        "data.tail()"
      ],
      "metadata": {
        "id": "w6yZemPeIe8b"
      },
      "execution_count": null,
      "outputs": []
    },
    {
      "cell_type": "code",
      "source": [
        "data.describe()"
      ],
      "metadata": {
        "id": "81moRFG_In4r"
      },
      "execution_count": null,
      "outputs": []
    },
    {
      "cell_type": "code",
      "source": [
        "out1 = filter(data,'number_of_register')\n",
        "out1"
      ],
      "metadata": {
        "id": "gaLGDPLowNXG"
      },
      "execution_count": null,
      "outputs": []
    },
    {
      "cell_type": "code",
      "source": [
        "out2 = filter(data,'number_of_eligible')\n",
        "out2"
      ],
      "metadata": {
        "id": "zkStHqcGxsBR"
      },
      "execution_count": null,
      "outputs": []
    },
    {
      "cell_type": "code",
      "source": [
        "out3 = filter(data,'number_of_payee')\n",
        "out3"
      ],
      "metadata": {
        "id": "9wZ8ZHNXxwni"
      },
      "execution_count": null,
      "outputs": []
    },
    {
      "cell_type": "code",
      "source": [
        "bpnr = plt.boxplot(data['number_of_register'])"
      ],
      "metadata": {
        "id": "FtqpmsveGkTd"
      },
      "execution_count": null,
      "outputs": []
    },
    {
      "cell_type": "code",
      "source": [
        "bpne = plt.boxplot(data['number_of_eligible'])"
      ],
      "metadata": {
        "id": "TPk2YC32HuY9"
      },
      "execution_count": null,
      "outputs": []
    },
    {
      "cell_type": "code",
      "source": [
        "bpnp = plt.boxplot(data['number_of_payee'])"
      ],
      "metadata": {
        "id": "8b33CTqxH1Fi"
      },
      "execution_count": null,
      "outputs": []
    },
    {
      "cell_type": "code",
      "source": [
        "data1 = data[(data['number_of_register'] >= bpnr['whiskers'][0].get_ydata().min()) & (data['number_of_register'] <= bpnr['whiskers'][0].get_ydata().max())]\n"
      ],
      "metadata": {
        "id": "46CuYKSkIRBH"
      },
      "execution_count": null,
      "outputs": []
    },
    {
      "cell_type": "code",
      "source": [
        "olbpnr = plt.boxplot(data1['number_of_register'])"
      ],
      "metadata": {
        "id": "fvmZg3gNIa7u"
      },
      "execution_count": null,
      "outputs": []
    },
    {
      "cell_type": "code",
      "source": [
        "data2 = data[(data['number_of_eligible'] >= bpnr['whiskers'][0].get_ydata().min()) & (data['number_of_eligible'] <= bpnr['whiskers'][0].get_ydata().max())]\n",
        "olbpne = plt.boxplot(data2['number_of_eligible'])"
      ],
      "metadata": {
        "id": "h_NxjCdP1ENV"
      },
      "execution_count": null,
      "outputs": []
    },
    {
      "cell_type": "code",
      "source": [
        "data3 = data[(data['number_of_payee'] >= bpnr['whiskers'][0].get_ydata().min()) & (data['number_of_payee'] <= bpnr['whiskers'][0].get_ydata().max())]\n",
        "olbpnp = plt.boxplot(data3['number_of_payee'])"
      ],
      "metadata": {
        "id": "AQ-KextD1R2k"
      },
      "execution_count": null,
      "outputs": []
    },
    {
      "cell_type": "markdown",
      "source": [
        "#HW 4\n",
        "write your own KNN algorithm using sorting function from HW 2 (The function should take parameters1:training data 2:test data 3:K)"
      ],
      "metadata": {
        "id": "DP-YoK2oZNkS"
      }
    },
    {
      "cell_type": "code",
      "source": [
        "from sklearn import datasets #import the SKlearn package to load the example dataset\n",
        "iris = datasets.load_iris() #load iris dataset"
      ],
      "metadata": {
        "id": "FlSGK42oZUAB"
      },
      "execution_count": 2,
      "outputs": []
    },
    {
      "cell_type": "code",
      "source": [
        "test_data_0 = iris['data'][:5,:]\n",
        "test_data_1 = iris['data'][50:55,:]\n",
        "test_data_2 = iris['data'][100:105,:]\n",
        "\n",
        "train_data_0 = iris['data'][5:50,:]\n",
        "train_data_1 = iris['data'][55:100,:]\n",
        "train_data_2 = iris['data'][105:,:]"
      ],
      "metadata": {
        "id": "Py2UqxSXZnTY"
      },
      "execution_count": 3,
      "outputs": []
    },
    {
      "cell_type": "code",
      "source": [
        "test_data = np.concatenate([test_data_0,test_data_1,test_data_2])\n",
        "train_data = np.concatenate([train_data_0,train_data_1,train_data_2])"
      ],
      "metadata": {
        "id": "VNexYBbOciRv"
      },
      "execution_count": 4,
      "outputs": []
    },
    {
      "cell_type": "code",
      "source": [
        "test_label_0 = iris['target'][:5]\n",
        "test_label_1 = iris['target'][50:55]\n",
        "test_label_2 = iris['target'][100:105]\n",
        "\n",
        "train_label_0 = iris['target'][5:50]\n",
        "train_label_1 = iris['target'][55:100]\n",
        "train_label_2 = iris['target'][105:]\n",
        "k = 3"
      ],
      "metadata": {
        "id": "s_lRT3DxciS7"
      },
      "execution_count": 26,
      "outputs": []
    },
    {
      "cell_type": "code",
      "source": [
        "test_data = [test_data_0, test_data_1, test_data_2]\n",
        "test_labels = [test_label_0, test_label_1, test_label_2]\n",
        "train_data = [train_data_0, train_data_1, train_data_2]\n",
        "train_labels = [train_label_0, train_label_1, train_label_2]"
      ],
      "metadata": {
        "id": "hEaR-1aQIYDm"
      },
      "execution_count": 53,
      "outputs": []
    },
    {
      "cell_type": "code",
      "source": [
        "def minsort(dist):\n",
        "  for m in range(k):\n",
        "    min_distance = dist[m]\n",
        "    min_index = m\n",
        "    for n in range(m+1, len(dist)):\n",
        "      if dist[n][1] < min_distance[1]:\n",
        "        min_distance = dist[n]\n",
        "        min_index = n\n",
        "    dist[m], dist[min_index] = dist[min_index], dist[m]\n",
        "  return dist"
      ],
      "metadata": {
        "id": "2PbOmzcLvUMR"
      },
      "execution_count": 137,
      "outputs": []
    },
    {
      "cell_type": "code",
      "source": [
        "def eud(test_data,train_data,i,train_label):\n",
        "  dist = []\n",
        "  for j in range(len(train_data)):\n",
        "    d = (sum((test_data[i] - train_data[j]) ** 2))**(1/2)\n",
        "    dist.append((train_label[j], d))\n",
        "  return dist"
      ],
      "metadata": {
        "id": "OkbCTHIhxM6k"
      },
      "execution_count": 138,
      "outputs": []
    },
    {
      "cell_type": "code",
      "source": [
        "def KNN(train_data, train_label, test_data, k):\n",
        "    predictions = []\n",
        "\n",
        "    for i in range(len(test_data)):\n",
        "\n",
        "        dist = eud(test_data,train_data,i,train_label)\n",
        "        dist = minsort(dist)\n",
        "        votes = {}\n",
        "        for n in range(k):\n",
        "            label = dist[n][0]\n",
        "            if label in votes:\n",
        "                votes[label] += 1\n",
        "            else:\n",
        "                votes[label] = 1\n",
        "\n",
        "        vmax = max(votes, key=votes.get)\n",
        "        predictions.append(vmax)\n",
        "\n",
        "    return predictions"
      ],
      "metadata": {
        "id": "SqEwLceDICHF"
      },
      "execution_count": 139,
      "outputs": []
    },
    {
      "cell_type": "code",
      "source": [
        "predictions = []\n",
        "for i in range(len(test_data)):\n",
        "    predictions.extend(knn(train_data[i], train_labels[i], test_data[i], k))\n",
        "print(predictions)"
      ],
      "metadata": {
        "id": "Zv9SIT1BIcp9",
        "outputId": "f9b2a3f1-40bc-4a86-a5d4-977e02c6de76",
        "colab": {
          "base_uri": "https://localhost:8080/"
        }
      },
      "execution_count": 140,
      "outputs": [
        {
          "output_type": "stream",
          "name": "stdout",
          "text": [
            "[0, 0, 0, 0, 0, 1, 1, 1, 1, 1, 2, 2, 2, 2, 2]\n"
          ]
        }
      ]
    },
    {
      "cell_type": "code",
      "source": [
        "plt.figure(figsize=(5, 6))\n",
        "\n",
        "\n",
        "plt.scatter(test_data[0][:, 0], test_data[0][:, 1], label=f'Setosa')\n",
        "plt.scatter(test_data[1][:, 0], test_data[1][:, 1], label=f'Versicolor')\n",
        "plt.scatter(test_data[2][:, 0], test_data[2][:, 1], label=f'Virginica')\n",
        "plt.xlabel('Sepal.Length')\n",
        "plt.ylabel('Sepal.Width')\n",
        "plt.legend(title='Classes')\n",
        "\n",
        "plt.title('k=3')\n",
        "plt.show()"
      ],
      "metadata": {
        "colab": {
          "base_uri": "https://localhost:8080/",
          "height": 564
        },
        "id": "SuGqBF5dzcy0",
        "outputId": "46aab1a1-87e2-4c46-9588-4fec2fc76977"
      },
      "execution_count": 145,
      "outputs": [
        {
          "output_type": "display_data",
          "data": {
            "text/plain": [
              "<Figure size 500x600 with 1 Axes>"
            ],
            "image/png": "[encoded data removed]"
          },
          "metadata": {}
        }
      ]
    },
    {
      "cell_type": "code",
      "source": [
        "k = 5\n",
        "predictions = []\n",
        "for i in range(len(test_data)):\n",
        "    predictions.extend(knn(train_data[i], train_labels[i], test_data[i], k))\n",
        "plt.figure(figsize=(5, 6))\n",
        "\n",
        "plt.scatter(test_data[0][:, 0], test_data[0][:, 1], label=f'Setosa')\n",
        "plt.scatter(test_data[1][:, 0], test_data[1][:, 1], label=f'Versicolor')\n",
        "plt.scatter(test_data[2][:, 0], test_data[2][:, 1], label=f'Virginica')\n",
        "plt.xlabel('Sepal.Length')\n",
        "plt.ylabel('Sepal.Width')\n",
        "plt.legend(title='Classes')\n",
        "\n",
        "plt.title('k=5')\n",
        "plt.show()"
      ],
      "metadata": {
        "colab": {
          "base_uri": "https://localhost:8080/",
          "height": 564
        },
        "id": "R9QAJFb_ziMo",
        "outputId": "454c0b7e-48b2-477b-d13e-e7da9be7e650"
      },
      "execution_count": 146,
      "outputs": [
        {
          "output_type": "display_data",
          "data": {
            "text/plain": [
              "<Figure size 500x600 with 1 Axes>"
            ],
            "image/png": "[encoded data removed]"
          },
          "metadata": {}
        }
      ]
    }
  ]
}